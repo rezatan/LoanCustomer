{
  "cells": [
    {
      "cell_type": "markdown",
      "id": "553dbe77",
      "metadata": {
        "id": "553dbe77"
      },
      "source": [
        "Author: Mhd Reza Putra"
      ]
    },
    {
      "cell_type": "markdown",
      "id": "abf05cad",
      "metadata": {
        "id": "abf05cad"
      },
      "source": [
        "# Import Libraries"
      ]
    },
    {
      "cell_type": "code",
      "execution_count": 28,
      "id": "895f458c",
      "metadata": {
        "id": "895f458c"
      },
      "outputs": [],
      "source": [
        "import pandas as pd\n",
        "import numpy as np\n",
        "from tensorflow import keras\n",
        "from tensorflow.keras import layers\n",
        "import matplotlib.pyplot as plt\n",
        "import seaborn as sns\n",
        "from sklearn.model_selection import train_test_split\n",
        "from sklearn.preprocessing import StandardScaler, OneHotEncoder\n",
        "from sklearn.impute import SimpleImputer\n",
        "from sklearn.pipeline import make_pipeline\n",
        "from sklearn.compose import make_column_transformer\n",
        "from sklearn.metrics import mean_absolute_error"
      ]
    },
    {
      "cell_type": "code",
      "source": [
        "from matplotlib import rcParams\n",
        "\n",
        "rcParams['figure.figsize'] = (12, 4)\n",
        "rcParams['lines.linewidth'] = 3\n",
        "rcParams['xtick.labelsize'] = 'small'\n",
        "rcParams['ytick.labelsize'] = 'small'"
      ],
      "metadata": {
        "id": "VKO3Gl0JcDGF"
      },
      "id": "VKO3Gl0JcDGF",
      "execution_count": 29,
      "outputs": []
    },
    {
      "cell_type": "markdown",
      "id": "baa49998",
      "metadata": {
        "id": "baa49998"
      },
      "source": [
        "# Load Dataset"
      ]
    },
    {
      "cell_type": "code",
      "execution_count": 30,
      "id": "bc091ff6",
      "metadata": {
        "id": "bc091ff6"
      },
      "outputs": [],
      "source": [
        "df = pd.read_csv('loan_customer.csv')"
      ]
    },
    {
      "cell_type": "code",
      "source": [
        "df['birth_date'] = pd.to_datetime(df['birth_date'])"
      ],
      "metadata": {
        "id": "C2IIsCu7SWx0"
      },
      "id": "C2IIsCu7SWx0",
      "execution_count": 31,
      "outputs": []
    },
    {
      "cell_type": "code",
      "source": [
        "cats = ['gender', 'married', 'dependents', 'education', 'self_employed', 'property_type']\n",
        "nums = ['applicant_income', 'coapplicant_income', 'loan_amount', 'loan_term_month', 'loan_term_year', 'credit_history']"
      ],
      "metadata": {
        "id": "9dlxaZ8jaFGj"
      },
      "id": "9dlxaZ8jaFGj",
      "execution_count": 32,
      "outputs": []
    },
    {
      "cell_type": "code",
      "source": [
        "df[cats].describe()"
      ],
      "metadata": {
        "colab": {
          "base_uri": "https://localhost:8080/",
          "height": 175
        },
        "id": "CCNyNsNVbMgM",
        "outputId": "43e14304-6682-4b48-cb2e-a147f4cbad4a"
      },
      "id": "CCNyNsNVbMgM",
      "execution_count": 33,
      "outputs": [
        {
          "output_type": "execute_result",
          "data": {
            "text/plain": [
              "       gender married dependents education self_employed property_type\n",
              "count     608     618        605       620           588           620\n",
              "unique      2       2          4         2             2             3\n",
              "top      Male     Yes          0  Graduate            No     apartment\n",
              "freq      495     403        349       485           506           235"
            ],
            "text/html": [
              "\n",
              "  <div id=\"df-5ffdbf63-f7e9-4cea-adff-15475bb54a7e\">\n",
              "    <div class=\"colab-df-container\">\n",
              "      <div>\n",
              "<style scoped>\n",
              "    .dataframe tbody tr th:only-of-type {\n",
              "        vertical-align: middle;\n",
              "    }\n",
              "\n",
              "    .dataframe tbody tr th {\n",
              "        vertical-align: top;\n",
              "    }\n",
              "\n",
              "    .dataframe thead th {\n",
              "        text-align: right;\n",
              "    }\n",
              "</style>\n",
              "<table border=\"1\" class=\"dataframe\">\n",
              "  <thead>\n",
              "    <tr style=\"text-align: right;\">\n",
              "      <th></th>\n",
              "      <th>gender</th>\n",
              "      <th>married</th>\n",
              "      <th>dependents</th>\n",
              "      <th>education</th>\n",
              "      <th>self_employed</th>\n",
              "      <th>property_type</th>\n",
              "    </tr>\n",
              "  </thead>\n",
              "  <tbody>\n",
              "    <tr>\n",
              "      <th>count</th>\n",
              "      <td>608</td>\n",
              "      <td>618</td>\n",
              "      <td>605</td>\n",
              "      <td>620</td>\n",
              "      <td>588</td>\n",
              "      <td>620</td>\n",
              "    </tr>\n",
              "    <tr>\n",
              "      <th>unique</th>\n",
              "      <td>2</td>\n",
              "      <td>2</td>\n",
              "      <td>4</td>\n",
              "      <td>2</td>\n",
              "      <td>2</td>\n",
              "      <td>3</td>\n",
              "    </tr>\n",
              "    <tr>\n",
              "      <th>top</th>\n",
              "      <td>Male</td>\n",
              "      <td>Yes</td>\n",
              "      <td>0</td>\n",
              "      <td>Graduate</td>\n",
              "      <td>No</td>\n",
              "      <td>apartment</td>\n",
              "    </tr>\n",
              "    <tr>\n",
              "      <th>freq</th>\n",
              "      <td>495</td>\n",
              "      <td>403</td>\n",
              "      <td>349</td>\n",
              "      <td>485</td>\n",
              "      <td>506</td>\n",
              "      <td>235</td>\n",
              "    </tr>\n",
              "  </tbody>\n",
              "</table>\n",
              "</div>\n",
              "      <button class=\"colab-df-convert\" onclick=\"convertToInteractive('df-5ffdbf63-f7e9-4cea-adff-15475bb54a7e')\"\n",
              "              title=\"Convert this dataframe to an interactive table.\"\n",
              "              style=\"display:none;\">\n",
              "        \n",
              "  <svg xmlns=\"http://www.w3.org/2000/svg\" height=\"24px\"viewBox=\"0 0 24 24\"\n",
              "       width=\"24px\">\n",
              "    <path d=\"M0 0h24v24H0V0z\" fill=\"none\"/>\n",
              "    <path d=\"M18.56 5.44l.94 2.06.94-2.06 2.06-.94-2.06-.94-.94-2.06-.94 2.06-2.06.94zm-11 1L8.5 8.5l.94-2.06 2.06-.94-2.06-.94L8.5 2.5l-.94 2.06-2.06.94zm10 10l.94 2.06.94-2.06 2.06-.94-2.06-.94-.94-2.06-.94 2.06-2.06.94z\"/><path d=\"M17.41 7.96l-1.37-1.37c-.4-.4-.92-.59-1.43-.59-.52 0-1.04.2-1.43.59L10.3 9.45l-7.72 7.72c-.78.78-.78 2.05 0 2.83L4 21.41c.39.39.9.59 1.41.59.51 0 1.02-.2 1.41-.59l7.78-7.78 2.81-2.81c.8-.78.8-2.07 0-2.86zM5.41 20L4 18.59l7.72-7.72 1.47 1.35L5.41 20z\"/>\n",
              "  </svg>\n",
              "      </button>\n",
              "      \n",
              "  <style>\n",
              "    .colab-df-container {\n",
              "      display:flex;\n",
              "      flex-wrap:wrap;\n",
              "      gap: 12px;\n",
              "    }\n",
              "\n",
              "    .colab-df-convert {\n",
              "      background-color: #E8F0FE;\n",
              "      border: none;\n",
              "      border-radius: 50%;\n",
              "      cursor: pointer;\n",
              "      display: none;\n",
              "      fill: #1967D2;\n",
              "      height: 32px;\n",
              "      padding: 0 0 0 0;\n",
              "      width: 32px;\n",
              "    }\n",
              "\n",
              "    .colab-df-convert:hover {\n",
              "      background-color: #E2EBFA;\n",
              "      box-shadow: 0px 1px 2px rgba(60, 64, 67, 0.3), 0px 1px 3px 1px rgba(60, 64, 67, 0.15);\n",
              "      fill: #174EA6;\n",
              "    }\n",
              "\n",
              "    [theme=dark] .colab-df-convert {\n",
              "      background-color: #3B4455;\n",
              "      fill: #D2E3FC;\n",
              "    }\n",
              "\n",
              "    [theme=dark] .colab-df-convert:hover {\n",
              "      background-color: #434B5C;\n",
              "      box-shadow: 0px 1px 3px 1px rgba(0, 0, 0, 0.15);\n",
              "      filter: drop-shadow(0px 1px 2px rgba(0, 0, 0, 0.3));\n",
              "      fill: #FFFFFF;\n",
              "    }\n",
              "  </style>\n",
              "\n",
              "      <script>\n",
              "        const buttonEl =\n",
              "          document.querySelector('#df-5ffdbf63-f7e9-4cea-adff-15475bb54a7e button.colab-df-convert');\n",
              "        buttonEl.style.display =\n",
              "          google.colab.kernel.accessAllowed ? 'block' : 'none';\n",
              "\n",
              "        async function convertToInteractive(key) {\n",
              "          const element = document.querySelector('#df-5ffdbf63-f7e9-4cea-adff-15475bb54a7e');\n",
              "          const dataTable =\n",
              "            await google.colab.kernel.invokeFunction('convertToInteractive',\n",
              "                                                     [key], {});\n",
              "          if (!dataTable) return;\n",
              "\n",
              "          const docLinkHtml = 'Like what you see? Visit the ' +\n",
              "            '<a target=\"_blank\" href=https://colab.research.google.com/notebooks/data_table.ipynb>data table notebook</a>'\n",
              "            + ' to learn more about interactive tables.';\n",
              "          element.innerHTML = '';\n",
              "          dataTable['output_type'] = 'display_data';\n",
              "          await google.colab.output.renderOutput(dataTable, element);\n",
              "          const docLink = document.createElement('div');\n",
              "          docLink.innerHTML = docLinkHtml;\n",
              "          element.appendChild(docLink);\n",
              "        }\n",
              "      </script>\n",
              "    </div>\n",
              "  </div>\n",
              "  "
            ]
          },
          "metadata": {},
          "execution_count": 33
        }
      ]
    },
    {
      "cell_type": "code",
      "source": [
        "df.info()"
      ],
      "metadata": {
        "colab": {
          "base_uri": "https://localhost:8080/"
        },
        "id": "jegQZI9zjA5n",
        "outputId": "1c07880e-3937-4c2e-81d2-5e6bf181502a"
      },
      "id": "jegQZI9zjA5n",
      "execution_count": 34,
      "outputs": [
        {
          "output_type": "stream",
          "name": "stdout",
          "text": [
            "<class 'pandas.core.frame.DataFrame'>\n",
            "RangeIndex: 621 entries, 0 to 620\n",
            "Data columns (total 17 columns):\n",
            " #   Column              Non-Null Count  Dtype         \n",
            "---  ------              --------------  -----         \n",
            " 0   loan_id             621 non-null    object        \n",
            " 1   birth_date          572 non-null    datetime64[ns]\n",
            " 2   phone_number        569 non-null    float64       \n",
            " 3   gender              608 non-null    object        \n",
            " 4   married             618 non-null    object        \n",
            " 5   dependents          605 non-null    object        \n",
            " 6   education           620 non-null    object        \n",
            " 7   self_employed       588 non-null    object        \n",
            " 8   applicant_income    612 non-null    float64       \n",
            " 9   coapplicant_income  621 non-null    float64       \n",
            " 10  loan_amount         621 non-null    int64         \n",
            " 11  loan_term_month     621 non-null    int64         \n",
            " 12  loan_term_year      621 non-null    int64         \n",
            " 13  credit_history      570 non-null    float64       \n",
            " 14  has_credit_card     88 non-null     object        \n",
            " 15  property_type       620 non-null    object        \n",
            " 16  loan_status         621 non-null    object        \n",
            "dtypes: datetime64[ns](1), float64(4), int64(3), object(9)\n",
            "memory usage: 82.6+ KB\n"
          ]
        }
      ]
    },
    {
      "cell_type": "code",
      "source": [
        "df.sample(5)"
      ],
      "metadata": {
        "colab": {
          "base_uri": "https://localhost:8080/",
          "height": 288
        },
        "id": "I9hd0AupX9qc",
        "outputId": "2d500294-43da-4cff-dafb-371dd360df02"
      },
      "id": "I9hd0AupX9qc",
      "execution_count": 35,
      "outputs": [
        {
          "output_type": "execute_result",
          "data": {
            "text/plain": [
              "      loan_id birth_date  phone_number  gender married dependents  \\\n",
              "42   LP001123 1989-06-07  6.285739e+11    Male     Yes          0   \n",
              "470  LP002494 1990-08-07  6.281199e+11    Male      No          0   \n",
              "91   LP001316        NaT  6.285256e+11    Male     Yes          0   \n",
              "456  LP002447 1992-04-07           NaN    Male     Yes          2   \n",
              "149  LP001519 1980-12-02  6.287736e+11  Female      No          0   \n",
              "\n",
              "        education self_employed  applicant_income  coapplicant_income  \\\n",
              "42       Graduate            No            2400.0                 0.0   \n",
              "470      Graduate            No            6000.0                 0.0   \n",
              "91       Graduate            No            2958.0              2900.0   \n",
              "456  Not Graduate            No            1958.0              1456.0   \n",
              "149      Graduate            No           10000.0              1666.0   \n",
              "\n",
              "     loan_amount  loan_term_month  loan_term_year  credit_history  \\\n",
              "42         75000              360              30             NaN   \n",
              "470       140000              360              30             1.0   \n",
              "91        131000              360              30             1.0   \n",
              "456        60000              300              25             NaN   \n",
              "149       225000              360              30             1.0   \n",
              "\n",
              "    has_credit_card property_type loan_status  \n",
              "42              NaN         house     APPROVE  \n",
              "470              no        studio     APPROVE  \n",
              "91              NaN     apartment     APPROVE  \n",
              "456             NaN         house     APPROVE  \n",
              "149              no        studio      REJECT  "
            ],
            "text/html": [
              "\n",
              "  <div id=\"df-c134a2cb-5d4c-4ad3-aeeb-2f821a136cb3\">\n",
              "    <div class=\"colab-df-container\">\n",
              "      <div>\n",
              "<style scoped>\n",
              "    .dataframe tbody tr th:only-of-type {\n",
              "        vertical-align: middle;\n",
              "    }\n",
              "\n",
              "    .dataframe tbody tr th {\n",
              "        vertical-align: top;\n",
              "    }\n",
              "\n",
              "    .dataframe thead th {\n",
              "        text-align: right;\n",
              "    }\n",
              "</style>\n",
              "<table border=\"1\" class=\"dataframe\">\n",
              "  <thead>\n",
              "    <tr style=\"text-align: right;\">\n",
              "      <th></th>\n",
              "      <th>loan_id</th>\n",
              "      <th>birth_date</th>\n",
              "      <th>phone_number</th>\n",
              "      <th>gender</th>\n",
              "      <th>married</th>\n",
              "      <th>dependents</th>\n",
              "      <th>education</th>\n",
              "      <th>self_employed</th>\n",
              "      <th>applicant_income</th>\n",
              "      <th>coapplicant_income</th>\n",
              "      <th>loan_amount</th>\n",
              "      <th>loan_term_month</th>\n",
              "      <th>loan_term_year</th>\n",
              "      <th>credit_history</th>\n",
              "      <th>has_credit_card</th>\n",
              "      <th>property_type</th>\n",
              "      <th>loan_status</th>\n",
              "    </tr>\n",
              "  </thead>\n",
              "  <tbody>\n",
              "    <tr>\n",
              "      <th>42</th>\n",
              "      <td>LP001123</td>\n",
              "      <td>1989-06-07</td>\n",
              "      <td>6.285739e+11</td>\n",
              "      <td>Male</td>\n",
              "      <td>Yes</td>\n",
              "      <td>0</td>\n",
              "      <td>Graduate</td>\n",
              "      <td>No</td>\n",
              "      <td>2400.0</td>\n",
              "      <td>0.0</td>\n",
              "      <td>75000</td>\n",
              "      <td>360</td>\n",
              "      <td>30</td>\n",
              "      <td>NaN</td>\n",
              "      <td>NaN</td>\n",
              "      <td>house</td>\n",
              "      <td>APPROVE</td>\n",
              "    </tr>\n",
              "    <tr>\n",
              "      <th>470</th>\n",
              "      <td>LP002494</td>\n",
              "      <td>1990-08-07</td>\n",
              "      <td>6.281199e+11</td>\n",
              "      <td>Male</td>\n",
              "      <td>No</td>\n",
              "      <td>0</td>\n",
              "      <td>Graduate</td>\n",
              "      <td>No</td>\n",
              "      <td>6000.0</td>\n",
              "      <td>0.0</td>\n",
              "      <td>140000</td>\n",
              "      <td>360</td>\n",
              "      <td>30</td>\n",
              "      <td>1.0</td>\n",
              "      <td>no</td>\n",
              "      <td>studio</td>\n",
              "      <td>APPROVE</td>\n",
              "    </tr>\n",
              "    <tr>\n",
              "      <th>91</th>\n",
              "      <td>LP001316</td>\n",
              "      <td>NaT</td>\n",
              "      <td>6.285256e+11</td>\n",
              "      <td>Male</td>\n",
              "      <td>Yes</td>\n",
              "      <td>0</td>\n",
              "      <td>Graduate</td>\n",
              "      <td>No</td>\n",
              "      <td>2958.0</td>\n",
              "      <td>2900.0</td>\n",
              "      <td>131000</td>\n",
              "      <td>360</td>\n",
              "      <td>30</td>\n",
              "      <td>1.0</td>\n",
              "      <td>NaN</td>\n",
              "      <td>apartment</td>\n",
              "      <td>APPROVE</td>\n",
              "    </tr>\n",
              "    <tr>\n",
              "      <th>456</th>\n",
              "      <td>LP002447</td>\n",
              "      <td>1992-04-07</td>\n",
              "      <td>NaN</td>\n",
              "      <td>Male</td>\n",
              "      <td>Yes</td>\n",
              "      <td>2</td>\n",
              "      <td>Not Graduate</td>\n",
              "      <td>No</td>\n",
              "      <td>1958.0</td>\n",
              "      <td>1456.0</td>\n",
              "      <td>60000</td>\n",
              "      <td>300</td>\n",
              "      <td>25</td>\n",
              "      <td>NaN</td>\n",
              "      <td>NaN</td>\n",
              "      <td>house</td>\n",
              "      <td>APPROVE</td>\n",
              "    </tr>\n",
              "    <tr>\n",
              "      <th>149</th>\n",
              "      <td>LP001519</td>\n",
              "      <td>1980-12-02</td>\n",
              "      <td>6.287736e+11</td>\n",
              "      <td>Female</td>\n",
              "      <td>No</td>\n",
              "      <td>0</td>\n",
              "      <td>Graduate</td>\n",
              "      <td>No</td>\n",
              "      <td>10000.0</td>\n",
              "      <td>1666.0</td>\n",
              "      <td>225000</td>\n",
              "      <td>360</td>\n",
              "      <td>30</td>\n",
              "      <td>1.0</td>\n",
              "      <td>no</td>\n",
              "      <td>studio</td>\n",
              "      <td>REJECT</td>\n",
              "    </tr>\n",
              "  </tbody>\n",
              "</table>\n",
              "</div>\n",
              "      <button class=\"colab-df-convert\" onclick=\"convertToInteractive('df-c134a2cb-5d4c-4ad3-aeeb-2f821a136cb3')\"\n",
              "              title=\"Convert this dataframe to an interactive table.\"\n",
              "              style=\"display:none;\">\n",
              "        \n",
              "  <svg xmlns=\"http://www.w3.org/2000/svg\" height=\"24px\"viewBox=\"0 0 24 24\"\n",
              "       width=\"24px\">\n",
              "    <path d=\"M0 0h24v24H0V0z\" fill=\"none\"/>\n",
              "    <path d=\"M18.56 5.44l.94 2.06.94-2.06 2.06-.94-2.06-.94-.94-2.06-.94 2.06-2.06.94zm-11 1L8.5 8.5l.94-2.06 2.06-.94-2.06-.94L8.5 2.5l-.94 2.06-2.06.94zm10 10l.94 2.06.94-2.06 2.06-.94-2.06-.94-.94-2.06-.94 2.06-2.06.94z\"/><path d=\"M17.41 7.96l-1.37-1.37c-.4-.4-.92-.59-1.43-.59-.52 0-1.04.2-1.43.59L10.3 9.45l-7.72 7.72c-.78.78-.78 2.05 0 2.83L4 21.41c.39.39.9.59 1.41.59.51 0 1.02-.2 1.41-.59l7.78-7.78 2.81-2.81c.8-.78.8-2.07 0-2.86zM5.41 20L4 18.59l7.72-7.72 1.47 1.35L5.41 20z\"/>\n",
              "  </svg>\n",
              "      </button>\n",
              "      \n",
              "  <style>\n",
              "    .colab-df-container {\n",
              "      display:flex;\n",
              "      flex-wrap:wrap;\n",
              "      gap: 12px;\n",
              "    }\n",
              "\n",
              "    .colab-df-convert {\n",
              "      background-color: #E8F0FE;\n",
              "      border: none;\n",
              "      border-radius: 50%;\n",
              "      cursor: pointer;\n",
              "      display: none;\n",
              "      fill: #1967D2;\n",
              "      height: 32px;\n",
              "      padding: 0 0 0 0;\n",
              "      width: 32px;\n",
              "    }\n",
              "\n",
              "    .colab-df-convert:hover {\n",
              "      background-color: #E2EBFA;\n",
              "      box-shadow: 0px 1px 2px rgba(60, 64, 67, 0.3), 0px 1px 3px 1px rgba(60, 64, 67, 0.15);\n",
              "      fill: #174EA6;\n",
              "    }\n",
              "\n",
              "    [theme=dark] .colab-df-convert {\n",
              "      background-color: #3B4455;\n",
              "      fill: #D2E3FC;\n",
              "    }\n",
              "\n",
              "    [theme=dark] .colab-df-convert:hover {\n",
              "      background-color: #434B5C;\n",
              "      box-shadow: 0px 1px 3px 1px rgba(0, 0, 0, 0.15);\n",
              "      filter: drop-shadow(0px 1px 2px rgba(0, 0, 0, 0.3));\n",
              "      fill: #FFFFFF;\n",
              "    }\n",
              "  </style>\n",
              "\n",
              "      <script>\n",
              "        const buttonEl =\n",
              "          document.querySelector('#df-c134a2cb-5d4c-4ad3-aeeb-2f821a136cb3 button.colab-df-convert');\n",
              "        buttonEl.style.display =\n",
              "          google.colab.kernel.accessAllowed ? 'block' : 'none';\n",
              "\n",
              "        async function convertToInteractive(key) {\n",
              "          const element = document.querySelector('#df-c134a2cb-5d4c-4ad3-aeeb-2f821a136cb3');\n",
              "          const dataTable =\n",
              "            await google.colab.kernel.invokeFunction('convertToInteractive',\n",
              "                                                     [key], {});\n",
              "          if (!dataTable) return;\n",
              "\n",
              "          const docLinkHtml = 'Like what you see? Visit the ' +\n",
              "            '<a target=\"_blank\" href=https://colab.research.google.com/notebooks/data_table.ipynb>data table notebook</a>'\n",
              "            + ' to learn more about interactive tables.';\n",
              "          element.innerHTML = '';\n",
              "          dataTable['output_type'] = 'display_data';\n",
              "          await google.colab.output.renderOutput(dataTable, element);\n",
              "          const docLink = document.createElement('div');\n",
              "          docLink.innerHTML = docLinkHtml;\n",
              "          element.appendChild(docLink);\n",
              "        }\n",
              "      </script>\n",
              "    </div>\n",
              "  </div>\n",
              "  "
            ]
          },
          "metadata": {},
          "execution_count": 35
        }
      ]
    },
    {
      "cell_type": "code",
      "source": [
        "df.describe()"
      ],
      "metadata": {
        "colab": {
          "base_uri": "https://localhost:8080/",
          "height": 300
        },
        "id": "jLRN7yLAYUXn",
        "outputId": "4078c287-1e8e-4458-838b-ca93f4db2722"
      },
      "id": "jLRN7yLAYUXn",
      "execution_count": 36,
      "outputs": [
        {
          "output_type": "execute_result",
          "data": {
            "text/plain": [
              "       phone_number  applicant_income  coapplicant_income    loan_amount  \\\n",
              "count  5.690000e+02        612.000000          621.000000     621.000000   \n",
              "mean   5.468552e+11       5681.549020         1616.874267  145133.655395   \n",
              "std    1.987860e+11       9056.454103         2915.075138   84011.115879   \n",
              "min    6.281101e+10        150.000000            0.000000    9000.000000   \n",
              "25%    6.281140e+11       2874.500000            0.000000  100000.000000   \n",
              "50%    6.281343e+11       3812.500000         1167.000000  125000.000000   \n",
              "75%    6.285665e+11       5815.750000         2302.000000  165000.000000   \n",
              "max    6.287799e+11     170578.000000        41667.000000  700000.000000   \n",
              "\n",
              "       loan_term_month  loan_term_year  credit_history  \n",
              "count       621.000000      621.000000      570.000000  \n",
              "mean        342.608696       28.550725        0.842105  \n",
              "std          64.090837        5.340903        0.364963  \n",
              "min          12.000000        1.000000        0.000000  \n",
              "25%         360.000000       30.000000        1.000000  \n",
              "50%         360.000000       30.000000        1.000000  \n",
              "75%         360.000000       30.000000        1.000000  \n",
              "max         480.000000       40.000000        1.000000  "
            ],
            "text/html": [
              "\n",
              "  <div id=\"df-96e07e87-2ede-4dd8-b999-0e3de71c3d6e\">\n",
              "    <div class=\"colab-df-container\">\n",
              "      <div>\n",
              "<style scoped>\n",
              "    .dataframe tbody tr th:only-of-type {\n",
              "        vertical-align: middle;\n",
              "    }\n",
              "\n",
              "    .dataframe tbody tr th {\n",
              "        vertical-align: top;\n",
              "    }\n",
              "\n",
              "    .dataframe thead th {\n",
              "        text-align: right;\n",
              "    }\n",
              "</style>\n",
              "<table border=\"1\" class=\"dataframe\">\n",
              "  <thead>\n",
              "    <tr style=\"text-align: right;\">\n",
              "      <th></th>\n",
              "      <th>phone_number</th>\n",
              "      <th>applicant_income</th>\n",
              "      <th>coapplicant_income</th>\n",
              "      <th>loan_amount</th>\n",
              "      <th>loan_term_month</th>\n",
              "      <th>loan_term_year</th>\n",
              "      <th>credit_history</th>\n",
              "    </tr>\n",
              "  </thead>\n",
              "  <tbody>\n",
              "    <tr>\n",
              "      <th>count</th>\n",
              "      <td>5.690000e+02</td>\n",
              "      <td>612.000000</td>\n",
              "      <td>621.000000</td>\n",
              "      <td>621.000000</td>\n",
              "      <td>621.000000</td>\n",
              "      <td>621.000000</td>\n",
              "      <td>570.000000</td>\n",
              "    </tr>\n",
              "    <tr>\n",
              "      <th>mean</th>\n",
              "      <td>5.468552e+11</td>\n",
              "      <td>5681.549020</td>\n",
              "      <td>1616.874267</td>\n",
              "      <td>145133.655395</td>\n",
              "      <td>342.608696</td>\n",
              "      <td>28.550725</td>\n",
              "      <td>0.842105</td>\n",
              "    </tr>\n",
              "    <tr>\n",
              "      <th>std</th>\n",
              "      <td>1.987860e+11</td>\n",
              "      <td>9056.454103</td>\n",
              "      <td>2915.075138</td>\n",
              "      <td>84011.115879</td>\n",
              "      <td>64.090837</td>\n",
              "      <td>5.340903</td>\n",
              "      <td>0.364963</td>\n",
              "    </tr>\n",
              "    <tr>\n",
              "      <th>min</th>\n",
              "      <td>6.281101e+10</td>\n",
              "      <td>150.000000</td>\n",
              "      <td>0.000000</td>\n",
              "      <td>9000.000000</td>\n",
              "      <td>12.000000</td>\n",
              "      <td>1.000000</td>\n",
              "      <td>0.000000</td>\n",
              "    </tr>\n",
              "    <tr>\n",
              "      <th>25%</th>\n",
              "      <td>6.281140e+11</td>\n",
              "      <td>2874.500000</td>\n",
              "      <td>0.000000</td>\n",
              "      <td>100000.000000</td>\n",
              "      <td>360.000000</td>\n",
              "      <td>30.000000</td>\n",
              "      <td>1.000000</td>\n",
              "    </tr>\n",
              "    <tr>\n",
              "      <th>50%</th>\n",
              "      <td>6.281343e+11</td>\n",
              "      <td>3812.500000</td>\n",
              "      <td>1167.000000</td>\n",
              "      <td>125000.000000</td>\n",
              "      <td>360.000000</td>\n",
              "      <td>30.000000</td>\n",
              "      <td>1.000000</td>\n",
              "    </tr>\n",
              "    <tr>\n",
              "      <th>75%</th>\n",
              "      <td>6.285665e+11</td>\n",
              "      <td>5815.750000</td>\n",
              "      <td>2302.000000</td>\n",
              "      <td>165000.000000</td>\n",
              "      <td>360.000000</td>\n",
              "      <td>30.000000</td>\n",
              "      <td>1.000000</td>\n",
              "    </tr>\n",
              "    <tr>\n",
              "      <th>max</th>\n",
              "      <td>6.287799e+11</td>\n",
              "      <td>170578.000000</td>\n",
              "      <td>41667.000000</td>\n",
              "      <td>700000.000000</td>\n",
              "      <td>480.000000</td>\n",
              "      <td>40.000000</td>\n",
              "      <td>1.000000</td>\n",
              "    </tr>\n",
              "  </tbody>\n",
              "</table>\n",
              "</div>\n",
              "      <button class=\"colab-df-convert\" onclick=\"convertToInteractive('df-96e07e87-2ede-4dd8-b999-0e3de71c3d6e')\"\n",
              "              title=\"Convert this dataframe to an interactive table.\"\n",
              "              style=\"display:none;\">\n",
              "        \n",
              "  <svg xmlns=\"http://www.w3.org/2000/svg\" height=\"24px\"viewBox=\"0 0 24 24\"\n",
              "       width=\"24px\">\n",
              "    <path d=\"M0 0h24v24H0V0z\" fill=\"none\"/>\n",
              "    <path d=\"M18.56 5.44l.94 2.06.94-2.06 2.06-.94-2.06-.94-.94-2.06-.94 2.06-2.06.94zm-11 1L8.5 8.5l.94-2.06 2.06-.94-2.06-.94L8.5 2.5l-.94 2.06-2.06.94zm10 10l.94 2.06.94-2.06 2.06-.94-2.06-.94-.94-2.06-.94 2.06-2.06.94z\"/><path d=\"M17.41 7.96l-1.37-1.37c-.4-.4-.92-.59-1.43-.59-.52 0-1.04.2-1.43.59L10.3 9.45l-7.72 7.72c-.78.78-.78 2.05 0 2.83L4 21.41c.39.39.9.59 1.41.59.51 0 1.02-.2 1.41-.59l7.78-7.78 2.81-2.81c.8-.78.8-2.07 0-2.86zM5.41 20L4 18.59l7.72-7.72 1.47 1.35L5.41 20z\"/>\n",
              "  </svg>\n",
              "      </button>\n",
              "      \n",
              "  <style>\n",
              "    .colab-df-container {\n",
              "      display:flex;\n",
              "      flex-wrap:wrap;\n",
              "      gap: 12px;\n",
              "    }\n",
              "\n",
              "    .colab-df-convert {\n",
              "      background-color: #E8F0FE;\n",
              "      border: none;\n",
              "      border-radius: 50%;\n",
              "      cursor: pointer;\n",
              "      display: none;\n",
              "      fill: #1967D2;\n",
              "      height: 32px;\n",
              "      padding: 0 0 0 0;\n",
              "      width: 32px;\n",
              "    }\n",
              "\n",
              "    .colab-df-convert:hover {\n",
              "      background-color: #E2EBFA;\n",
              "      box-shadow: 0px 1px 2px rgba(60, 64, 67, 0.3), 0px 1px 3px 1px rgba(60, 64, 67, 0.15);\n",
              "      fill: #174EA6;\n",
              "    }\n",
              "\n",
              "    [theme=dark] .colab-df-convert {\n",
              "      background-color: #3B4455;\n",
              "      fill: #D2E3FC;\n",
              "    }\n",
              "\n",
              "    [theme=dark] .colab-df-convert:hover {\n",
              "      background-color: #434B5C;\n",
              "      box-shadow: 0px 1px 3px 1px rgba(0, 0, 0, 0.15);\n",
              "      filter: drop-shadow(0px 1px 2px rgba(0, 0, 0, 0.3));\n",
              "      fill: #FFFFFF;\n",
              "    }\n",
              "  </style>\n",
              "\n",
              "      <script>\n",
              "        const buttonEl =\n",
              "          document.querySelector('#df-96e07e87-2ede-4dd8-b999-0e3de71c3d6e button.colab-df-convert');\n",
              "        buttonEl.style.display =\n",
              "          google.colab.kernel.accessAllowed ? 'block' : 'none';\n",
              "\n",
              "        async function convertToInteractive(key) {\n",
              "          const element = document.querySelector('#df-96e07e87-2ede-4dd8-b999-0e3de71c3d6e');\n",
              "          const dataTable =\n",
              "            await google.colab.kernel.invokeFunction('convertToInteractive',\n",
              "                                                     [key], {});\n",
              "          if (!dataTable) return;\n",
              "\n",
              "          const docLinkHtml = 'Like what you see? Visit the ' +\n",
              "            '<a target=\"_blank\" href=https://colab.research.google.com/notebooks/data_table.ipynb>data table notebook</a>'\n",
              "            + ' to learn more about interactive tables.';\n",
              "          element.innerHTML = '';\n",
              "          dataTable['output_type'] = 'display_data';\n",
              "          await google.colab.output.renderOutput(dataTable, element);\n",
              "          const docLink = document.createElement('div');\n",
              "          docLink.innerHTML = docLinkHtml;\n",
              "          element.appendChild(docLink);\n",
              "        }\n",
              "      </script>\n",
              "    </div>\n",
              "  </div>\n",
              "  "
            ]
          },
          "metadata": {},
          "execution_count": 36
        }
      ]
    },
    {
      "cell_type": "markdown",
      "id": "7c0e3893",
      "metadata": {
        "id": "7c0e3893"
      },
      "source": [
        "# Data Cleansing"
      ]
    },
    {
      "cell_type": "markdown",
      "id": "dc4032a4",
      "metadata": {
        "id": "dc4032a4"
      },
      "source": [
        "## Handling missing values"
      ]
    },
    {
      "cell_type": "code",
      "execution_count": 37,
      "id": "b2b5755e",
      "metadata": {
        "id": "b2b5755e"
      },
      "outputs": [],
      "source": [
        "g_m = df[\"gender\"].mode()[0]\n",
        "df[\"gender\"].fillna(g_m, inplace = True)\n",
        "m_m = df[\"married\"].mode()[0]\n",
        "df[\"married\"].fillna(m_m, inplace = True)\n",
        "d_m = df[\"dependents\"].mode()[0]\n",
        "df[\"dependents\"].fillna(d_m, inplace = True)\n",
        "e_m = df[\"education\"].mode()[0]\n",
        "df[\"education\"].fillna(e_m, inplace = True)\n",
        "se_m = df[\"self_employed\"].mode()[0]\n",
        "df[\"self_employed\"].fillna(se_m, inplace = True)\n",
        "ai_m = df[\"applicant_income\"].mean()\n",
        "df[\"applicant_income\"].fillna(ai_m, inplace = True)\n",
        "ch_m = df[\"credit_history\"].mode()[0]\n",
        "df[\"credit_history\"].fillna(ch_m, inplace = True)\n",
        "pt_m = df[\"property_type\"].mode()[0]\n",
        "df[\"property_type\"].fillna(pt_m, inplace = True)\n",
        "hc_m = df[\"has_credit_card\"].mode()[0]\n",
        "df[\"has_credit_card\"].fillna(hc_m, inplace = True)"
      ]
    },
    {
      "cell_type": "markdown",
      "id": "d75d760e",
      "metadata": {
        "id": "d75d760e"
      },
      "source": [
        "## Handling duplicated data"
      ]
    },
    {
      "cell_type": "code",
      "execution_count": 38,
      "id": "f040795a",
      "metadata": {
        "id": "f040795a"
      },
      "outputs": [],
      "source": [
        "df.drop_duplicates(inplace = True)"
      ]
    },
    {
      "cell_type": "markdown",
      "id": "a73632f3",
      "metadata": {
        "id": "a73632f3"
      },
      "source": [
        "## Handling Outlier"
      ]
    },
    {
      "cell_type": "code",
      "execution_count": 39,
      "id": "dfbec136",
      "metadata": {
        "id": "dfbec136",
        "colab": {
          "base_uri": "https://localhost:8080/",
          "height": 35
        },
        "outputId": "4344e422-2cf2-4cbc-cb43-04f73a54e28d"
      },
      "outputs": [
        {
          "output_type": "execute_result",
          "data": {
            "text/plain": [
              "\"\\nfor i in range(0, len(nums)):\\n    plt.subplot(1, len(nums), i+1)\\n    sns.boxplot(y=df[nums[i]], color='blue', orient='v')\\n    plt.tight_layout()\\n    \""
            ],
            "application/vnd.google.colaboratory.intrinsic+json": {
              "type": "string"
            }
          },
          "metadata": {},
          "execution_count": 39
        }
      ],
      "source": [
        "'''\n",
        "for i in range(0, len(nums)):\n",
        "    plt.subplot(1, len(nums), i+1)\n",
        "    sns.boxplot(y=df[nums[i]], color='blue', orient='v')\n",
        "    plt.tight_layout()\n",
        "    '''"
      ]
    },
    {
      "cell_type": "code",
      "source": [
        "'''\n",
        "plt.figure(figsize=(12, 5))\n",
        "for i in range(0, len(nums)):\n",
        "    plt.subplot(2, len(nums)/2, i+1)\n",
        "    sns.distplot(df[nums[i]], color='blue')\n",
        "    plt.tight_layout()\n",
        "  '''"
      ],
      "metadata": {
        "id": "4rHtXmCbc7Yd",
        "colab": {
          "base_uri": "https://localhost:8080/",
          "height": 53
        },
        "outputId": "56d19930-3aa8-4cab-93c8-80a7e9d9ea12"
      },
      "id": "4rHtXmCbc7Yd",
      "execution_count": 40,
      "outputs": [
        {
          "output_type": "execute_result",
          "data": {
            "text/plain": [
              "\"\\nplt.figure(figsize=(12, 5))\\nfor i in range(0, len(nums)):\\n    plt.subplot(2, len(nums)/2, i+1)\\n    sns.distplot(df[nums[i]], color='blue')\\n    plt.tight_layout()\\n  \""
            ],
            "application/vnd.google.colaboratory.intrinsic+json": {
              "type": "string"
            }
          },
          "metadata": {},
          "execution_count": 40
        }
      ]
    },
    {
      "cell_type": "markdown",
      "id": "659efbd3",
      "metadata": {
        "id": "659efbd3"
      },
      "source": [
        "## Feature Encoding"
      ]
    },
    {
      "cell_type": "code",
      "execution_count": 137,
      "id": "20e217a2",
      "metadata": {
        "id": "20e217a2"
      },
      "outputs": [],
      "source": [
        "df.loan_status.replace(('APPROVE', 'REJECT'), (1, 0), inplace=True)\n",
        "X = df.copy()\n",
        "X.pop('loan_id')\n",
        "X.pop('birth_date')\n",
        "X.pop('phone_number')\n",
        "X.pop('has_credit_card')\n",
        "y = X.pop('loan_status')\n",
        "transformer_num = make_pipeline(\n",
        "    StandardScaler(),\n",
        ")\n",
        "transformer_cat = make_pipeline(\n",
        "    OneHotEncoder(handle_unknown='ignore'),\n",
        ")\n",
        "\n",
        "preprocessor = make_column_transformer(\n",
        "    (transformer_num, nums),\n",
        "    (transformer_cat, cats),\n",
        ")\n",
        "\n",
        "# stratify - make sure classes are evenlly represented across splits\n",
        "X_train, X_valid, y_train, y_valid = \\\n",
        "    train_test_split(X, y, stratify=y, train_size=0.75)\n",
        "\n",
        "X_train = preprocessor.fit_transform(X_train)\n",
        "X_valid = preprocessor.transform(X_valid)\n",
        "\n",
        "input_shape = [X_train.shape[1]]"
      ]
    },
    {
      "cell_type": "code",
      "source": [
        "model = keras.Sequential([\n",
        "    layers.BatchNormalization(),\n",
        "    layers.Dense(256, activation='relu',input_shape = input_shape),\n",
        "    layers.BatchNormalization(),\n",
        "    layers.Dropout(0.5),\n",
        "    layers.Dense(256, activation='relu'),\n",
        "    layers.BatchNormalization(),\n",
        "    layers.Dropout(0.5),   \n",
        "    layers.Dense(256, activation='relu'),\n",
        "    layers.BatchNormalization(),\n",
        "    layers.Dropout(0.5),\n",
        "    layers.Dense(1, activation='sigmoid'),\n",
        "])"
      ],
      "metadata": {
        "id": "FBN9uTWqZ_DF"
      },
      "id": "FBN9uTWqZ_DF",
      "execution_count": 161,
      "outputs": []
    },
    {
      "cell_type": "code",
      "source": [
        "opt = keras.optimizers.Adam(learning_rate=0.001)\n",
        "model.compile(\n",
        "    optimizer=opt,\n",
        "    loss='binary_crossentropy',\n",
        "    metrics=['binary_accuracy'],\n",
        ")"
      ],
      "metadata": {
        "id": "O-qBPGt9eAdy"
      },
      "id": "O-qBPGt9eAdy",
      "execution_count": 162,
      "outputs": []
    },
    {
      "cell_type": "code",
      "source": [
        "early_stopping = keras.callbacks.EarlyStopping(\n",
        "    patience=10,\n",
        "    min_delta=0.001,\n",
        "    restore_best_weights=True,\n",
        ")\n",
        "history = model.fit(\n",
        "    X_train, y_train,\n",
        "    validation_data=(X_valid, y_valid),\n",
        "    batch_size=512,\n",
        "    epochs=200,\n",
        "    steps_per_epoch = 4,\n",
        "    callbacks=[early_stopping],\n",
        ")\n",
        "\n",
        "history_df = pd.DataFrame(history.history)\n",
        "history_df.loc[:, ['loss', 'val_loss']].plot(title=\"Cross-entropy\")\n",
        "history_df.loc[:, ['binary_accuracy', 'val_binary_accuracy']].plot(title=\"Accuracy\")"
      ],
      "metadata": {
        "colab": {
          "base_uri": "https://localhost:8080/",
          "height": 1000
        },
        "id": "WbsWLXSIePIq",
        "outputId": "2e37999d-8978-4b8b-fe9c-dd7685e5c64b"
      },
      "id": "WbsWLXSIePIq",
      "execution_count": 163,
      "outputs": [
        {
          "output_type": "stream",
          "name": "stdout",
          "text": [
            "Epoch 1/200\n",
            "4/4 [==============================] - 2s 105ms/step - loss: 0.8900 - binary_accuracy: 0.5819 - val_loss: 0.6779 - val_binary_accuracy: 0.4258\n",
            "Epoch 2/200\n",
            "4/4 [==============================] - 0s 35ms/step - loss: 0.7705 - binary_accuracy: 0.6433 - val_loss: 0.6220 - val_binary_accuracy: 0.8065\n",
            "Epoch 3/200\n",
            "4/4 [==============================] - 0s 34ms/step - loss: 0.6499 - binary_accuracy: 0.7031 - val_loss: 0.5796 - val_binary_accuracy: 0.8258\n",
            "Epoch 4/200\n",
            "4/4 [==============================] - 0s 34ms/step - loss: 0.6797 - binary_accuracy: 0.6977 - val_loss: 0.5468 - val_binary_accuracy: 0.8194\n",
            "Epoch 5/200\n",
            "4/4 [==============================] - 0s 33ms/step - loss: 0.6181 - binary_accuracy: 0.7349 - val_loss: 0.5203 - val_binary_accuracy: 0.8194\n",
            "Epoch 6/200\n",
            "4/4 [==============================] - 0s 33ms/step - loss: 0.5912 - binary_accuracy: 0.7489 - val_loss: 0.5023 - val_binary_accuracy: 0.8194\n",
            "Epoch 7/200\n",
            "4/4 [==============================] - 0s 37ms/step - loss: 0.5785 - binary_accuracy: 0.7592 - val_loss: 0.4919 - val_binary_accuracy: 0.8194\n",
            "Epoch 8/200\n",
            "4/4 [==============================] - 0s 34ms/step - loss: 0.5556 - binary_accuracy: 0.7640 - val_loss: 0.4837 - val_binary_accuracy: 0.8194\n",
            "Epoch 9/200\n",
            "4/4 [==============================] - 0s 32ms/step - loss: 0.5299 - binary_accuracy: 0.7802 - val_loss: 0.4784 - val_binary_accuracy: 0.8194\n",
            "Epoch 10/200\n",
            "4/4 [==============================] - 0s 40ms/step - loss: 0.5393 - binary_accuracy: 0.7732 - val_loss: 0.4756 - val_binary_accuracy: 0.8194\n",
            "Epoch 11/200\n",
            "4/4 [==============================] - 0s 35ms/step - loss: 0.5502 - binary_accuracy: 0.7538 - val_loss: 0.4740 - val_binary_accuracy: 0.8194\n",
            "Epoch 12/200\n",
            "4/4 [==============================] - 0s 32ms/step - loss: 0.4940 - binary_accuracy: 0.7829 - val_loss: 0.4741 - val_binary_accuracy: 0.8194\n",
            "Epoch 13/200\n",
            "4/4 [==============================] - 0s 34ms/step - loss: 0.4962 - binary_accuracy: 0.7904 - val_loss: 0.4746 - val_binary_accuracy: 0.8194\n",
            "Epoch 14/200\n",
            "4/4 [==============================] - 0s 32ms/step - loss: 0.4780 - binary_accuracy: 0.7909 - val_loss: 0.4748 - val_binary_accuracy: 0.8194\n",
            "Epoch 15/200\n",
            "4/4 [==============================] - 0s 33ms/step - loss: 0.4554 - binary_accuracy: 0.8044 - val_loss: 0.4756 - val_binary_accuracy: 0.8194\n",
            "Epoch 16/200\n",
            "4/4 [==============================] - 0s 34ms/step - loss: 0.4780 - binary_accuracy: 0.7926 - val_loss: 0.4760 - val_binary_accuracy: 0.8194\n",
            "Epoch 17/200\n",
            "4/4 [==============================] - 0s 35ms/step - loss: 0.4724 - binary_accuracy: 0.7909 - val_loss: 0.4767 - val_binary_accuracy: 0.8194\n",
            "Epoch 18/200\n",
            "4/4 [==============================] - 0s 34ms/step - loss: 0.4623 - binary_accuracy: 0.7969 - val_loss: 0.4762 - val_binary_accuracy: 0.8194\n",
            "Epoch 19/200\n",
            "4/4 [==============================] - 0s 32ms/step - loss: 0.4440 - binary_accuracy: 0.8028 - val_loss: 0.4759 - val_binary_accuracy: 0.8194\n",
            "Epoch 20/200\n",
            "4/4 [==============================] - 0s 36ms/step - loss: 0.4585 - binary_accuracy: 0.7958 - val_loss: 0.4770 - val_binary_accuracy: 0.8194\n",
            "Epoch 21/200\n",
            "4/4 [==============================] - 0s 33ms/step - loss: 0.4233 - binary_accuracy: 0.8173 - val_loss: 0.4781 - val_binary_accuracy: 0.8194\n"
          ]
        },
        {
          "output_type": "execute_result",
          "data": {
            "text/plain": [
              "<matplotlib.axes._subplots.AxesSubplot at 0x7f797d220610>"
            ]
          },
          "metadata": {},
          "execution_count": 163
        },
        {
          "output_type": "display_data",
          "data": {
            "text/plain": [
              "<Figure size 864x288 with 1 Axes>"
            ],
            "image/png": "[encoded data removed]"
          },
          "metadata": {
            "needs_background": "light"
          }
        },
        {
          "output_type": "display_data",
          "data": {
            "text/plain": [
              "<Figure size 864x288 with 1 Axes>"
            ],
            "image/png": "[encoded data removed]"
          },
          "metadata": {
            "needs_background": "light"
          }
        }
      ]
    },
    {
      "cell_type": "code",
      "source": [
        "print((\"Best Validation Loss: {:0.4f}\" +\\\n",
        "      \"\\nBest Validation Accuracy: {:0.4f}\")\\\n",
        "      .format(history_df['val_loss'].min(), \n",
        "              history_df['val_binary_accuracy'].max()))"
      ],
      "metadata": {
        "colab": {
          "base_uri": "https://localhost:8080/"
        },
        "id": "j4UMsiBOjcEK",
        "outputId": "33a5dc9e-0486-4098-d0b1-4f71d91f5c86"
      },
      "id": "j4UMsiBOjcEK",
      "execution_count": 164,
      "outputs": [
        {
          "output_type": "stream",
          "name": "stdout",
          "text": [
            "Best Validation Loss: 0.4740\n",
            "Best Validation Accuracy: 0.8258\n"
          ]
        }
      ]
    }
  ],
  "metadata": {
    "kernelspec": {
      "display_name": "Python 3 (ipykernel)",
      "language": "python",
      "name": "python3"
    },
    "language_info": {
      "codemirror_mode": {
        "name": "ipython",
        "version": 3
      },
      "file_extension": ".py",
      "mimetype": "text/x-python",
      "name": "python",
      "nbconvert_exporter": "python",
      "pygments_lexer": "ipython3",
      "version": "3.9.6"
    },
    "colab": {
      "provenance": [],
      "collapsed_sections": []
    }
  },
  "nbformat": 4,
  "nbformat_minor": 5
}