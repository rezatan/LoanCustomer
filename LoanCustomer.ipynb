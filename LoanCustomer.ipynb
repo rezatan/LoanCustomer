{
  "cells": [
    {
      "cell_type": "markdown",
      "metadata": {
        "id": "view-in-github",
        "colab_type": "text"
      },
      "source": [
        "<a href=\"https://colab.research.google.com/github/rezatan/LoanCustomer/blob/main/LoanCustomer.ipynb\" target=\"_parent\"><img src=\"https://colab.research.google.com/assets/colab-badge.svg\" alt=\"Open In Colab\"/></a>"
      ]
    },
    {
      "cell_type": "markdown",
      "id": "553dbe77",
      "metadata": {
        "id": "553dbe77"
      },
      "source": [
        "Author: Mhd Reza Putra"
      ]
    },
    {
      "cell_type": "markdown",
      "id": "abf05cad",
      "metadata": {
        "id": "abf05cad"
      },
      "source": [
        "# Import Libraries"
      ]
    },
    {
      "cell_type": "code",
      "execution_count": 1,
      "id": "895f458c",
      "metadata": {
        "id": "895f458c"
      },
      "outputs": [],
      "source": [
        "import pandas as pd\n",
        "import numpy as np\n",
        "from tensorflow import keras\n",
        "from tensorflow.keras import layers\n",
        "import matplotlib.pyplot as plt\n",
        "import seaborn as sns\n",
        "from sklearn.model_selection import train_test_split\n",
        "from sklearn.preprocessing import StandardScaler, OneHotEncoder\n",
        "from sklearn.impute import SimpleImputer\n",
        "from sklearn.pipeline import make_pipeline\n",
        "from sklearn.compose import make_column_transformer\n",
        "from sklearn.metrics import mean_absolute_error"
      ]
    },
    {
      "cell_type": "code",
      "source": [
        "from matplotlib import rcParams\n",
        "\n",
        "rcParams['figure.figsize'] = (12, 4)\n",
        "rcParams['lines.linewidth'] = 3\n",
        "rcParams['xtick.labelsize'] = 'small'\n",
        "rcParams['ytick.labelsize'] = 'small'"
      ],
      "metadata": {
        "id": "VKO3Gl0JcDGF"
      },
      "id": "VKO3Gl0JcDGF",
      "execution_count": 2,
      "outputs": []
    },
    {
      "cell_type": "markdown",
      "id": "baa49998",
      "metadata": {
        "id": "baa49998"
      },
      "source": [
        "# Load Dataset"
      ]
    },
    {
      "cell_type": "code",
      "execution_count": 3,
      "id": "bc091ff6",
      "metadata": {
        "id": "bc091ff6"
      },
      "outputs": [],
      "source": [
        "df = pd.read_csv('loan_customer.csv')"
      ]
    },
    {
      "cell_type": "code",
      "source": [
        "df['birth_date'] = pd.to_datetime(df['birth_date'])"
      ],
      "metadata": {
        "id": "C2IIsCu7SWx0"
      },
      "id": "C2IIsCu7SWx0",
      "execution_count": 4,
      "outputs": []
    },
    {
      "cell_type": "code",
      "source": [
        "cats = ['gender', 'married', 'dependents', 'education', 'self_employed', 'property_type']\n",
        "nums = ['applicant_income', 'coapplicant_income', 'loan_amount', 'loan_term_month', 'loan_term_year', 'credit_history']"
      ],
      "metadata": {
        "id": "9dlxaZ8jaFGj"
      },
      "id": "9dlxaZ8jaFGj",
      "execution_count": 5,
      "outputs": []
    },
    {
      "cell_type": "code",
      "source": [
        "df[cats].describe()"
      ],
      "metadata": {
        "colab": {
          "base_uri": "https://localhost:8080/",
          "height": 175
        },
        "id": "CCNyNsNVbMgM",
        "outputId": "548d343d-a936-4d2f-e930-bc18a295a46f"
      },
      "id": "CCNyNsNVbMgM",
      "execution_count": 6,
      "outputs": [
        {
          "output_type": "execute_result",
          "data": {
            "text/plain": [
              "       gender married dependents education self_employed property_type\n",
              "count     608     618        605       620           588           620\n",
              "unique      2       2          4         2             2             3\n",
              "top      Male     Yes          0  Graduate            No     apartment\n",
              "freq      495     403        349       485           506           235"
            ],
            "text/html": [
              "\n",
              "  <div id=\"df-4cf285c7-6ae3-43b0-8c05-806b209db2fe\">\n",
              "    <div class=\"colab-df-container\">\n",
              "      <div>\n",
              "<style scoped>\n",
              "    .dataframe tbody tr th:only-of-type {\n",
              "        vertical-align: middle;\n",
              "    }\n",
              "\n",
              "    .dataframe tbody tr th {\n",
              "        vertical-align: top;\n",
              "    }\n",
              "\n",
              "    .dataframe thead th {\n",
              "        text-align: right;\n",
              "    }\n",
              "</style>\n",
              "<table border=\"1\" class=\"dataframe\">\n",
              "  <thead>\n",
              "    <tr style=\"text-align: right;\">\n",
              "      <th></th>\n",
              "      <th>gender</th>\n",
              "      <th>married</th>\n",
              "      <th>dependents</th>\n",
              "      <th>education</th>\n",
              "      <th>self_employed</th>\n",
              "      <th>property_type</th>\n",
              "    </tr>\n",
              "  </thead>\n",
              "  <tbody>\n",
              "    <tr>\n",
              "      <th>count</th>\n",
              "      <td>608</td>\n",
              "      <td>618</td>\n",
              "      <td>605</td>\n",
              "      <td>620</td>\n",
              "      <td>588</td>\n",
              "      <td>620</td>\n",
              "    </tr>\n",
              "    <tr>\n",
              "      <th>unique</th>\n",
              "      <td>2</td>\n",
              "      <td>2</td>\n",
              "      <td>4</td>\n",
              "      <td>2</td>\n",
              "      <td>2</td>\n",
              "      <td>3</td>\n",
              "    </tr>\n",
              "    <tr>\n",
              "      <th>top</th>\n",
              "      <td>Male</td>\n",
              "      <td>Yes</td>\n",
              "      <td>0</td>\n",
              "      <td>Graduate</td>\n",
              "      <td>No</td>\n",
              "      <td>apartment</td>\n",
              "    </tr>\n",
              "    <tr>\n",
              "      <th>freq</th>\n",
              "      <td>495</td>\n",
              "      <td>403</td>\n",
              "      <td>349</td>\n",
              "      <td>485</td>\n",
              "      <td>506</td>\n",
              "      <td>235</td>\n",
              "    </tr>\n",
              "  </tbody>\n",
              "</table>\n",
              "</div>\n",
              "      <button class=\"colab-df-convert\" onclick=\"convertToInteractive('df-4cf285c7-6ae3-43b0-8c05-806b209db2fe')\"\n",
              "              title=\"Convert this dataframe to an interactive table.\"\n",
              "              style=\"display:none;\">\n",
              "        \n",
              "  <svg xmlns=\"http://www.w3.org/2000/svg\" height=\"24px\"viewBox=\"0 0 24 24\"\n",
              "       width=\"24px\">\n",
              "    <path d=\"M0 0h24v24H0V0z\" fill=\"none\"/>\n",
              "    <path d=\"M18.56 5.44l.94 2.06.94-2.06 2.06-.94-2.06-.94-.94-2.06-.94 2.06-2.06.94zm-11 1L8.5 8.5l.94-2.06 2.06-.94-2.06-.94L8.5 2.5l-.94 2.06-2.06.94zm10 10l.94 2.06.94-2.06 2.06-.94-2.06-.94-.94-2.06-.94 2.06-2.06.94z\"/><path d=\"M17.41 7.96l-1.37-1.37c-.4-.4-.92-.59-1.43-.59-.52 0-1.04.2-1.43.59L10.3 9.45l-7.72 7.72c-.78.78-.78 2.05 0 2.83L4 21.41c.39.39.9.59 1.41.59.51 0 1.02-.2 1.41-.59l7.78-7.78 2.81-2.81c.8-.78.8-2.07 0-2.86zM5.41 20L4 18.59l7.72-7.72 1.47 1.35L5.41 20z\"/>\n",
              "  </svg>\n",
              "      </button>\n",
              "      \n",
              "  <style>\n",
              "    .colab-df-container {\n",
              "      display:flex;\n",
              "      flex-wrap:wrap;\n",
              "      gap: 12px;\n",
              "    }\n",
              "\n",
              "    .colab-df-convert {\n",
              "      background-color: #E8F0FE;\n",
              "      border: none;\n",
              "      border-radius: 50%;\n",
              "      cursor: pointer;\n",
              "      display: none;\n",
              "      fill: #1967D2;\n",
              "      height: 32px;\n",
              "      padding: 0 0 0 0;\n",
              "      width: 32px;\n",
              "    }\n",
              "\n",
              "    .colab-df-convert:hover {\n",
              "      background-color: #E2EBFA;\n",
              "      box-shadow: 0px 1px 2px rgba(60, 64, 67, 0.3), 0px 1px 3px 1px rgba(60, 64, 67, 0.15);\n",
              "      fill: #174EA6;\n",
              "    }\n",
              "\n",
              "    [theme=dark] .colab-df-convert {\n",
              "      background-color: #3B4455;\n",
              "      fill: #D2E3FC;\n",
              "    }\n",
              "\n",
              "    [theme=dark] .colab-df-convert:hover {\n",
              "      background-color: #434B5C;\n",
              "      box-shadow: 0px 1px 3px 1px rgba(0, 0, 0, 0.15);\n",
              "      filter: drop-shadow(0px 1px 2px rgba(0, 0, 0, 0.3));\n",
              "      fill: #FFFFFF;\n",
              "    }\n",
              "  </style>\n",
              "\n",
              "      <script>\n",
              "        const buttonEl =\n",
              "          document.querySelector('#df-4cf285c7-6ae3-43b0-8c05-806b209db2fe button.colab-df-convert');\n",
              "        buttonEl.style.display =\n",
              "          google.colab.kernel.accessAllowed ? 'block' : 'none';\n",
              "\n",
              "        async function convertToInteractive(key) {\n",
              "          const element = document.querySelector('#df-4cf285c7-6ae3-43b0-8c05-806b209db2fe');\n",
              "          const dataTable =\n",
              "            await google.colab.kernel.invokeFunction('convertToInteractive',\n",
              "                                                     [key], {});\n",
              "          if (!dataTable) return;\n",
              "\n",
              "          const docLinkHtml = 'Like what you see? Visit the ' +\n",
              "            '<a target=\"_blank\" href=https://colab.research.google.com/notebooks/data_table.ipynb>data table notebook</a>'\n",
              "            + ' to learn more about interactive tables.';\n",
              "          element.innerHTML = '';\n",
              "          dataTable['output_type'] = 'display_data';\n",
              "          await google.colab.output.renderOutput(dataTable, element);\n",
              "          const docLink = document.createElement('div');\n",
              "          docLink.innerHTML = docLinkHtml;\n",
              "          element.appendChild(docLink);\n",
              "        }\n",
              "      </script>\n",
              "    </div>\n",
              "  </div>\n",
              "  "
            ]
          },
          "metadata": {},
          "execution_count": 6
        }
      ]
    },
    {
      "cell_type": "code",
      "source": [
        "df.info()"
      ],
      "metadata": {
        "colab": {
          "base_uri": "https://localhost:8080/"
        },
        "id": "jegQZI9zjA5n",
        "outputId": "8ce80420-151d-42f3-9031-78f8362f8f98"
      },
      "id": "jegQZI9zjA5n",
      "execution_count": 7,
      "outputs": [
        {
          "output_type": "stream",
          "name": "stdout",
          "text": [
            "<class 'pandas.core.frame.DataFrame'>\n",
            "RangeIndex: 621 entries, 0 to 620\n",
            "Data columns (total 17 columns):\n",
            " #   Column              Non-Null Count  Dtype         \n",
            "---  ------              --------------  -----         \n",
            " 0   loan_id             621 non-null    object        \n",
            " 1   birth_date          572 non-null    datetime64[ns]\n",
            " 2   phone_number        569 non-null    float64       \n",
            " 3   gender              608 non-null    object        \n",
            " 4   married             618 non-null    object        \n",
            " 5   dependents          605 non-null    object        \n",
            " 6   education           620 non-null    object        \n",
            " 7   self_employed       588 non-null    object        \n",
            " 8   applicant_income    612 non-null    float64       \n",
            " 9   coapplicant_income  621 non-null    float64       \n",
            " 10  loan_amount         621 non-null    int64         \n",
            " 11  loan_term_month     621 non-null    int64         \n",
            " 12  loan_term_year      621 non-null    int64         \n",
            " 13  credit_history      570 non-null    float64       \n",
            " 14  has_credit_card     88 non-null     object        \n",
            " 15  property_type       620 non-null    object        \n",
            " 16  loan_status         621 non-null    object        \n",
            "dtypes: datetime64[ns](1), float64(4), int64(3), object(9)\n",
            "memory usage: 82.6+ KB\n"
          ]
        }
      ]
    },
    {
      "cell_type": "code",
      "source": [
        "df.sample(5)"
      ],
      "metadata": {
        "colab": {
          "base_uri": "https://localhost:8080/",
          "height": 322
        },
        "id": "I9hd0AupX9qc",
        "outputId": "a539c1b5-9614-4fd6-8270-3ee90b448fef"
      },
      "id": "I9hd0AupX9qc",
      "execution_count": 8,
      "outputs": [
        {
          "output_type": "execute_result",
          "data": {
            "text/plain": [
              "      loan_id birth_date  phone_number gender married dependents  \\\n",
              "73   LP001250 2000-06-16  6.285773e+11   Male     Yes         3+   \n",
              "486  LP002536 1988-08-22  6.281363e+11   Male     Yes         3+   \n",
              "612  LP002960 1989-10-08  6.285752e+11   Male     Yes          0   \n",
              "481  LP002529 1990-04-15  6.285295e+10   Male     Yes          2   \n",
              "460  LP002455 1983-04-17  6.281157e+11   Male     Yes          2   \n",
              "\n",
              "        education self_employed  applicant_income  coapplicant_income  \\\n",
              "73   Not Graduate            No            4755.0                 0.0   \n",
              "486  Not Graduate            No            3095.0                 0.0   \n",
              "612  Not Graduate            No            2400.0              3800.0   \n",
              "481      Graduate            No            6700.0              1750.0   \n",
              "460      Graduate            No               NaN                 0.0   \n",
              "\n",
              "     loan_amount  loan_term_month  loan_term_year  credit_history  \\\n",
              "73         95000              360              30             0.0   \n",
              "486       113000              360              30             1.0   \n",
              "612       110000              180              15             1.0   \n",
              "481       230000              300              25             1.0   \n",
              "460        96000              360              30             1.0   \n",
              "\n",
              "    has_credit_card property_type loan_status  \n",
              "73              NaN     apartment      REJECT  \n",
              "486             yes        studio     APPROVE  \n",
              "612             NaN         house      REJECT  \n",
              "481             NaN     apartment     APPROVE  \n",
              "460             NaN     apartment     APPROVE  "
            ],
            "text/html": [
              "\n",
              "  <div id=\"df-57c4f219-1aa8-4949-98ce-d87446886b46\">\n",
              "    <div class=\"colab-df-container\">\n",
              "      <div>\n",
              "<style scoped>\n",
              "    .dataframe tbody tr th:only-of-type {\n",
              "        vertical-align: middle;\n",
              "    }\n",
              "\n",
              "    .dataframe tbody tr th {\n",
              "        vertical-align: top;\n",
              "    }\n",
              "\n",
              "    .dataframe thead th {\n",
              "        text-align: right;\n",
              "    }\n",
              "</style>\n",
              "<table border=\"1\" class=\"dataframe\">\n",
              "  <thead>\n",
              "    <tr style=\"text-align: right;\">\n",
              "      <th></th>\n",
              "      <th>loan_id</th>\n",
              "      <th>birth_date</th>\n",
              "      <th>phone_number</th>\n",
              "      <th>gender</th>\n",
              "      <th>married</th>\n",
              "      <th>dependents</th>\n",
              "      <th>education</th>\n",
              "      <th>self_employed</th>\n",
              "      <th>applicant_income</th>\n",
              "      <th>coapplicant_income</th>\n",
              "      <th>loan_amount</th>\n",
              "      <th>loan_term_month</th>\n",
              "      <th>loan_term_year</th>\n",
              "      <th>credit_history</th>\n",
              "      <th>has_credit_card</th>\n",
              "      <th>property_type</th>\n",
              "      <th>loan_status</th>\n",
              "    </tr>\n",
              "  </thead>\n",
              "  <tbody>\n",
              "    <tr>\n",
              "      <th>73</th>\n",
              "      <td>LP001250</td>\n",
              "      <td>2000-06-16</td>\n",
              "      <td>6.285773e+11</td>\n",
              "      <td>Male</td>\n",
              "      <td>Yes</td>\n",
              "      <td>3+</td>\n",
              "      <td>Not Graduate</td>\n",
              "      <td>No</td>\n",
              "      <td>4755.0</td>\n",
              "      <td>0.0</td>\n",
              "      <td>95000</td>\n",
              "      <td>360</td>\n",
              "      <td>30</td>\n",
              "      <td>0.0</td>\n",
              "      <td>NaN</td>\n",
              "      <td>apartment</td>\n",
              "      <td>REJECT</td>\n",
              "    </tr>\n",
              "    <tr>\n",
              "      <th>486</th>\n",
              "      <td>LP002536</td>\n",
              "      <td>1988-08-22</td>\n",
              "      <td>6.281363e+11</td>\n",
              "      <td>Male</td>\n",
              "      <td>Yes</td>\n",
              "      <td>3+</td>\n",
              "      <td>Not Graduate</td>\n",
              "      <td>No</td>\n",
              "      <td>3095.0</td>\n",
              "      <td>0.0</td>\n",
              "      <td>113000</td>\n",
              "      <td>360</td>\n",
              "      <td>30</td>\n",
              "      <td>1.0</td>\n",
              "      <td>yes</td>\n",
              "      <td>studio</td>\n",
              "      <td>APPROVE</td>\n",
              "    </tr>\n",
              "    <tr>\n",
              "      <th>612</th>\n",
              "      <td>LP002960</td>\n",
              "      <td>1989-10-08</td>\n",
              "      <td>6.285752e+11</td>\n",
              "      <td>Male</td>\n",
              "      <td>Yes</td>\n",
              "      <td>0</td>\n",
              "      <td>Not Graduate</td>\n",
              "      <td>No</td>\n",
              "      <td>2400.0</td>\n",
              "      <td>3800.0</td>\n",
              "      <td>110000</td>\n",
              "      <td>180</td>\n",
              "      <td>15</td>\n",
              "      <td>1.0</td>\n",
              "      <td>NaN</td>\n",
              "      <td>house</td>\n",
              "      <td>REJECT</td>\n",
              "    </tr>\n",
              "    <tr>\n",
              "      <th>481</th>\n",
              "      <td>LP002529</td>\n",
              "      <td>1990-04-15</td>\n",
              "      <td>6.285295e+10</td>\n",
              "      <td>Male</td>\n",
              "      <td>Yes</td>\n",
              "      <td>2</td>\n",
              "      <td>Graduate</td>\n",
              "      <td>No</td>\n",
              "      <td>6700.0</td>\n",
              "      <td>1750.0</td>\n",
              "      <td>230000</td>\n",
              "      <td>300</td>\n",
              "      <td>25</td>\n",
              "      <td>1.0</td>\n",
              "      <td>NaN</td>\n",
              "      <td>apartment</td>\n",
              "      <td>APPROVE</td>\n",
              "    </tr>\n",
              "    <tr>\n",
              "      <th>460</th>\n",
              "      <td>LP002455</td>\n",
              "      <td>1983-04-17</td>\n",
              "      <td>6.281157e+11</td>\n",
              "      <td>Male</td>\n",
              "      <td>Yes</td>\n",
              "      <td>2</td>\n",
              "      <td>Graduate</td>\n",
              "      <td>No</td>\n",
              "      <td>NaN</td>\n",
              "      <td>0.0</td>\n",
              "      <td>96000</td>\n",
              "      <td>360</td>\n",
              "      <td>30</td>\n",
              "      <td>1.0</td>\n",
              "      <td>NaN</td>\n",
              "      <td>apartment</td>\n",
              "      <td>APPROVE</td>\n",
              "    </tr>\n",
              "  </tbody>\n",
              "</table>\n",
              "</div>\n",
              "      <button class=\"colab-df-convert\" onclick=\"convertToInteractive('df-57c4f219-1aa8-4949-98ce-d87446886b46')\"\n",
              "              title=\"Convert this dataframe to an interactive table.\"\n",
              "              style=\"display:none;\">\n",
              "        \n",
              "  <svg xmlns=\"http://www.w3.org/2000/svg\" height=\"24px\"viewBox=\"0 0 24 24\"\n",
              "       width=\"24px\">\n",
              "    <path d=\"M0 0h24v24H0V0z\" fill=\"none\"/>\n",
              "    <path d=\"M18.56 5.44l.94 2.06.94-2.06 2.06-.94-2.06-.94-.94-2.06-.94 2.06-2.06.94zm-11 1L8.5 8.5l.94-2.06 2.06-.94-2.06-.94L8.5 2.5l-.94 2.06-2.06.94zm10 10l.94 2.06.94-2.06 2.06-.94-2.06-.94-.94-2.06-.94 2.06-2.06.94z\"/><path d=\"M17.41 7.96l-1.37-1.37c-.4-.4-.92-.59-1.43-.59-.52 0-1.04.2-1.43.59L10.3 9.45l-7.72 7.72c-.78.78-.78 2.05 0 2.83L4 21.41c.39.39.9.59 1.41.59.51 0 1.02-.2 1.41-.59l7.78-7.78 2.81-2.81c.8-.78.8-2.07 0-2.86zM5.41 20L4 18.59l7.72-7.72 1.47 1.35L5.41 20z\"/>\n",
              "  </svg>\n",
              "      </button>\n",
              "      \n",
              "  <style>\n",
              "    .colab-df-container {\n",
              "      display:flex;\n",
              "      flex-wrap:wrap;\n",
              "      gap: 12px;\n",
              "    }\n",
              "\n",
              "    .colab-df-convert {\n",
              "      background-color: #E8F0FE;\n",
              "      border: none;\n",
              "      border-radius: 50%;\n",
              "      cursor: pointer;\n",
              "      display: none;\n",
              "      fill: #1967D2;\n",
              "      height: 32px;\n",
              "      padding: 0 0 0 0;\n",
              "      width: 32px;\n",
              "    }\n",
              "\n",
              "    .colab-df-convert:hover {\n",
              "      background-color: #E2EBFA;\n",
              "      box-shadow: 0px 1px 2px rgba(60, 64, 67, 0.3), 0px 1px 3px 1px rgba(60, 64, 67, 0.15);\n",
              "      fill: #174EA6;\n",
              "    }\n",
              "\n",
              "    [theme=dark] .colab-df-convert {\n",
              "      background-color: #3B4455;\n",
              "      fill: #D2E3FC;\n",
              "    }\n",
              "\n",
              "    [theme=dark] .colab-df-convert:hover {\n",
              "      background-color: #434B5C;\n",
              "      box-shadow: 0px 1px 3px 1px rgba(0, 0, 0, 0.15);\n",
              "      filter: drop-shadow(0px 1px 2px rgba(0, 0, 0, 0.3));\n",
              "      fill: #FFFFFF;\n",
              "    }\n",
              "  </style>\n",
              "\n",
              "      <script>\n",
              "        const buttonEl =\n",
              "          document.querySelector('#df-57c4f219-1aa8-4949-98ce-d87446886b46 button.colab-df-convert');\n",
              "        buttonEl.style.display =\n",
              "          google.colab.kernel.accessAllowed ? 'block' : 'none';\n",
              "\n",
              "        async function convertToInteractive(key) {\n",
              "          const element = document.querySelector('#df-57c4f219-1aa8-4949-98ce-d87446886b46');\n",
              "          const dataTable =\n",
              "            await google.colab.kernel.invokeFunction('convertToInteractive',\n",
              "                                                     [key], {});\n",
              "          if (!dataTable) return;\n",
              "\n",
              "          const docLinkHtml = 'Like what you see? Visit the ' +\n",
              "            '<a target=\"_blank\" href=https://colab.research.google.com/notebooks/data_table.ipynb>data table notebook</a>'\n",
              "            + ' to learn more about interactive tables.';\n",
              "          element.innerHTML = '';\n",
              "          dataTable['output_type'] = 'display_data';\n",
              "          await google.colab.output.renderOutput(dataTable, element);\n",
              "          const docLink = document.createElement('div');\n",
              "          docLink.innerHTML = docLinkHtml;\n",
              "          element.appendChild(docLink);\n",
              "        }\n",
              "      </script>\n",
              "    </div>\n",
              "  </div>\n",
              "  "
            ]
          },
          "metadata": {},
          "execution_count": 8
        }
      ]
    },
    {
      "cell_type": "code",
      "source": [
        "df.describe()"
      ],
      "metadata": {
        "colab": {
          "base_uri": "https://localhost:8080/",
          "height": 344
        },
        "id": "jLRN7yLAYUXn",
        "outputId": "6884b5fc-0c51-4370-edc1-88ef76181e42"
      },
      "id": "jLRN7yLAYUXn",
      "execution_count": 9,
      "outputs": [
        {
          "output_type": "execute_result",
          "data": {
            "text/plain": [
              "       phone_number  applicant_income  coapplicant_income    loan_amount  \\\n",
              "count  5.690000e+02        612.000000          621.000000     621.000000   \n",
              "mean   5.468552e+11       5681.549020         1616.874267  145133.655395   \n",
              "std    1.987860e+11       9056.454103         2915.075138   84011.115879   \n",
              "min    6.281101e+10        150.000000            0.000000    9000.000000   \n",
              "25%    6.281140e+11       2874.500000            0.000000  100000.000000   \n",
              "50%    6.281343e+11       3812.500000         1167.000000  125000.000000   \n",
              "75%    6.285665e+11       5815.750000         2302.000000  165000.000000   \n",
              "max    6.287799e+11     170578.000000        41667.000000  700000.000000   \n",
              "\n",
              "       loan_term_month  loan_term_year  credit_history  \n",
              "count       621.000000      621.000000      570.000000  \n",
              "mean        342.608696       28.550725        0.842105  \n",
              "std          64.090837        5.340903        0.364963  \n",
              "min          12.000000        1.000000        0.000000  \n",
              "25%         360.000000       30.000000        1.000000  \n",
              "50%         360.000000       30.000000        1.000000  \n",
              "75%         360.000000       30.000000        1.000000  \n",
              "max         480.000000       40.000000        1.000000  "
            ],
            "text/html": [
              "\n",
              "  <div id=\"df-8c424d95-86aa-427b-85cc-f559ec3c620c\">\n",
              "    <div class=\"colab-df-container\">\n",
              "      <div>\n",
              "<style scoped>\n",
              "    .dataframe tbody tr th:only-of-type {\n",
              "        vertical-align: middle;\n",
              "    }\n",
              "\n",
              "    .dataframe tbody tr th {\n",
              "        vertical-align: top;\n",
              "    }\n",
              "\n",
              "    .dataframe thead th {\n",
              "        text-align: right;\n",
              "    }\n",
              "</style>\n",
              "<table border=\"1\" class=\"dataframe\">\n",
              "  <thead>\n",
              "    <tr style=\"text-align: right;\">\n",
              "      <th></th>\n",
              "      <th>phone_number</th>\n",
              "      <th>applicant_income</th>\n",
              "      <th>coapplicant_income</th>\n",
              "      <th>loan_amount</th>\n",
              "      <th>loan_term_month</th>\n",
              "      <th>loan_term_year</th>\n",
              "      <th>credit_history</th>\n",
              "    </tr>\n",
              "  </thead>\n",
              "  <tbody>\n",
              "    <tr>\n",
              "      <th>count</th>\n",
              "      <td>5.690000e+02</td>\n",
              "      <td>612.000000</td>\n",
              "      <td>621.000000</td>\n",
              "      <td>621.000000</td>\n",
              "      <td>621.000000</td>\n",
              "      <td>621.000000</td>\n",
              "      <td>570.000000</td>\n",
              "    </tr>\n",
              "    <tr>\n",
              "      <th>mean</th>\n",
              "      <td>5.468552e+11</td>\n",
              "      <td>5681.549020</td>\n",
              "      <td>1616.874267</td>\n",
              "      <td>145133.655395</td>\n",
              "      <td>342.608696</td>\n",
              "      <td>28.550725</td>\n",
              "      <td>0.842105</td>\n",
              "    </tr>\n",
              "    <tr>\n",
              "      <th>std</th>\n",
              "      <td>1.987860e+11</td>\n",
              "      <td>9056.454103</td>\n",
              "      <td>2915.075138</td>\n",
              "      <td>84011.115879</td>\n",
              "      <td>64.090837</td>\n",
              "      <td>5.340903</td>\n",
              "      <td>0.364963</td>\n",
              "    </tr>\n",
              "    <tr>\n",
              "      <th>min</th>\n",
              "      <td>6.281101e+10</td>\n",
              "      <td>150.000000</td>\n",
              "      <td>0.000000</td>\n",
              "      <td>9000.000000</td>\n",
              "      <td>12.000000</td>\n",
              "      <td>1.000000</td>\n",
              "      <td>0.000000</td>\n",
              "    </tr>\n",
              "    <tr>\n",
              "      <th>25%</th>\n",
              "      <td>6.281140e+11</td>\n",
              "      <td>2874.500000</td>\n",
              "      <td>0.000000</td>\n",
              "      <td>100000.000000</td>\n",
              "      <td>360.000000</td>\n",
              "      <td>30.000000</td>\n",
              "      <td>1.000000</td>\n",
              "    </tr>\n",
              "    <tr>\n",
              "      <th>50%</th>\n",
              "      <td>6.281343e+11</td>\n",
              "      <td>3812.500000</td>\n",
              "      <td>1167.000000</td>\n",
              "      <td>125000.000000</td>\n",
              "      <td>360.000000</td>\n",
              "      <td>30.000000</td>\n",
              "      <td>1.000000</td>\n",
              "    </tr>\n",
              "    <tr>\n",
              "      <th>75%</th>\n",
              "      <td>6.285665e+11</td>\n",
              "      <td>5815.750000</td>\n",
              "      <td>2302.000000</td>\n",
              "      <td>165000.000000</td>\n",
              "      <td>360.000000</td>\n",
              "      <td>30.000000</td>\n",
              "      <td>1.000000</td>\n",
              "    </tr>\n",
              "    <tr>\n",
              "      <th>max</th>\n",
              "      <td>6.287799e+11</td>\n",
              "      <td>170578.000000</td>\n",
              "      <td>41667.000000</td>\n",
              "      <td>700000.000000</td>\n",
              "      <td>480.000000</td>\n",
              "      <td>40.000000</td>\n",
              "      <td>1.000000</td>\n",
              "    </tr>\n",
              "  </tbody>\n",
              "</table>\n",
              "</div>\n",
              "      <button class=\"colab-df-convert\" onclick=\"convertToInteractive('df-8c424d95-86aa-427b-85cc-f559ec3c620c')\"\n",
              "              title=\"Convert this dataframe to an interactive table.\"\n",
              "              style=\"display:none;\">\n",
              "        \n",
              "  <svg xmlns=\"http://www.w3.org/2000/svg\" height=\"24px\"viewBox=\"0 0 24 24\"\n",
              "       width=\"24px\">\n",
              "    <path d=\"M0 0h24v24H0V0z\" fill=\"none\"/>\n",
              "    <path d=\"M18.56 5.44l.94 2.06.94-2.06 2.06-.94-2.06-.94-.94-2.06-.94 2.06-2.06.94zm-11 1L8.5 8.5l.94-2.06 2.06-.94-2.06-.94L8.5 2.5l-.94 2.06-2.06.94zm10 10l.94 2.06.94-2.06 2.06-.94-2.06-.94-.94-2.06-.94 2.06-2.06.94z\"/><path d=\"M17.41 7.96l-1.37-1.37c-.4-.4-.92-.59-1.43-.59-.52 0-1.04.2-1.43.59L10.3 9.45l-7.72 7.72c-.78.78-.78 2.05 0 2.83L4 21.41c.39.39.9.59 1.41.59.51 0 1.02-.2 1.41-.59l7.78-7.78 2.81-2.81c.8-.78.8-2.07 0-2.86zM5.41 20L4 18.59l7.72-7.72 1.47 1.35L5.41 20z\"/>\n",
              "  </svg>\n",
              "      </button>\n",
              "      \n",
              "  <style>\n",
              "    .colab-df-container {\n",
              "      display:flex;\n",
              "      flex-wrap:wrap;\n",
              "      gap: 12px;\n",
              "    }\n",
              "\n",
              "    .colab-df-convert {\n",
              "      background-color: #E8F0FE;\n",
              "      border: none;\n",
              "      border-radius: 50%;\n",
              "      cursor: pointer;\n",
              "      display: none;\n",
              "      fill: #1967D2;\n",
              "      height: 32px;\n",
              "      padding: 0 0 0 0;\n",
              "      width: 32px;\n",
              "    }\n",
              "\n",
              "    .colab-df-convert:hover {\n",
              "      background-color: #E2EBFA;\n",
              "      box-shadow: 0px 1px 2px rgba(60, 64, 67, 0.3), 0px 1px 3px 1px rgba(60, 64, 67, 0.15);\n",
              "      fill: #174EA6;\n",
              "    }\n",
              "\n",
              "    [theme=dark] .colab-df-convert {\n",
              "      background-color: #3B4455;\n",
              "      fill: #D2E3FC;\n",
              "    }\n",
              "\n",
              "    [theme=dark] .colab-df-convert:hover {\n",
              "      background-color: #434B5C;\n",
              "      box-shadow: 0px 1px 3px 1px rgba(0, 0, 0, 0.15);\n",
              "      filter: drop-shadow(0px 1px 2px rgba(0, 0, 0, 0.3));\n",
              "      fill: #FFFFFF;\n",
              "    }\n",
              "  </style>\n",
              "\n",
              "      <script>\n",
              "        const buttonEl =\n",
              "          document.querySelector('#df-8c424d95-86aa-427b-85cc-f559ec3c620c button.colab-df-convert');\n",
              "        buttonEl.style.display =\n",
              "          google.colab.kernel.accessAllowed ? 'block' : 'none';\n",
              "\n",
              "        async function convertToInteractive(key) {\n",
              "          const element = document.querySelector('#df-8c424d95-86aa-427b-85cc-f559ec3c620c');\n",
              "          const dataTable =\n",
              "            await google.colab.kernel.invokeFunction('convertToInteractive',\n",
              "                                                     [key], {});\n",
              "          if (!dataTable) return;\n",
              "\n",
              "          const docLinkHtml = 'Like what you see? Visit the ' +\n",
              "            '<a target=\"_blank\" href=https://colab.research.google.com/notebooks/data_table.ipynb>data table notebook</a>'\n",
              "            + ' to learn more about interactive tables.';\n",
              "          element.innerHTML = '';\n",
              "          dataTable['output_type'] = 'display_data';\n",
              "          await google.colab.output.renderOutput(dataTable, element);\n",
              "          const docLink = document.createElement('div');\n",
              "          docLink.innerHTML = docLinkHtml;\n",
              "          element.appendChild(docLink);\n",
              "        }\n",
              "      </script>\n",
              "    </div>\n",
              "  </div>\n",
              "  "
            ]
          },
          "metadata": {},
          "execution_count": 9
        }
      ]
    },
    {
      "cell_type": "markdown",
      "id": "7c0e3893",
      "metadata": {
        "id": "7c0e3893"
      },
      "source": [
        "# Data Cleansing"
      ]
    },
    {
      "cell_type": "markdown",
      "id": "dc4032a4",
      "metadata": {
        "id": "dc4032a4"
      },
      "source": [
        "## Handling missing values"
      ]
    },
    {
      "cell_type": "code",
      "execution_count": 10,
      "id": "b2b5755e",
      "metadata": {
        "id": "b2b5755e"
      },
      "outputs": [],
      "source": [
        "g_m = df[\"gender\"].mode()[0]\n",
        "df[\"gender\"].fillna(g_m, inplace = True)\n",
        "m_m = df[\"married\"].mode()[0]\n",
        "df[\"married\"].fillna(m_m, inplace = True)\n",
        "d_m = df[\"dependents\"].mode()[0]\n",
        "df[\"dependents\"].fillna(d_m, inplace = True)\n",
        "e_m = df[\"education\"].mode()[0]\n",
        "df[\"education\"].fillna(e_m, inplace = True)\n",
        "se_m = df[\"self_employed\"].mode()[0]\n",
        "df[\"self_employed\"].fillna(se_m, inplace = True)\n",
        "ai_m = df[\"applicant_income\"].mean()\n",
        "df[\"applicant_income\"].fillna(ai_m, inplace = True)\n",
        "ch_m = df[\"credit_history\"].mode()[0]\n",
        "df[\"credit_history\"].fillna(ch_m, inplace = True)\n",
        "pt_m = df[\"property_type\"].mode()[0]\n",
        "df[\"property_type\"].fillna(pt_m, inplace = True)\n",
        "hc_m = df[\"has_credit_card\"].mode()[0]\n",
        "df[\"has_credit_card\"].fillna(hc_m, inplace = True)"
      ]
    },
    {
      "cell_type": "markdown",
      "id": "d75d760e",
      "metadata": {
        "id": "d75d760e"
      },
      "source": [
        "## Handling duplicated data"
      ]
    },
    {
      "cell_type": "code",
      "execution_count": 11,
      "id": "f040795a",
      "metadata": {
        "id": "f040795a"
      },
      "outputs": [],
      "source": [
        "df.drop_duplicates(inplace = True)"
      ]
    },
    {
      "cell_type": "markdown",
      "id": "a73632f3",
      "metadata": {
        "id": "a73632f3"
      },
      "source": [
        "## Handling Outlier"
      ]
    },
    {
      "cell_type": "code",
      "execution_count": 12,
      "id": "dfbec136",
      "metadata": {
        "id": "dfbec136",
        "colab": {
          "base_uri": "https://localhost:8080/",
          "height": 53
        },
        "outputId": "d537e78a-6ceb-4e20-ea8c-e379426f64e1"
      },
      "outputs": [
        {
          "output_type": "execute_result",
          "data": {
            "text/plain": [
              "\"\\nfor i in range(0, len(nums)):\\n    plt.subplot(1, len(nums), i+1)\\n    sns.boxplot(y=df[nums[i]], color='blue', orient='v')\\n    plt.tight_layout()\\n    \""
            ],
            "application/vnd.google.colaboratory.intrinsic+json": {
              "type": "string"
            }
          },
          "metadata": {},
          "execution_count": 12
        }
      ],
      "source": [
        "'''\n",
        "for i in range(0, len(nums)):\n",
        "    plt.subplot(1, len(nums), i+1)\n",
        "    sns.boxplot(y=df[nums[i]], color='blue', orient='v')\n",
        "    plt.tight_layout()\n",
        "    '''"
      ]
    },
    {
      "cell_type": "code",
      "source": [
        "'''\n",
        "plt.figure(figsize=(12, 5))\n",
        "for i in range(0, len(nums)):\n",
        "    plt.subplot(2, len(nums)/2, i+1)\n",
        "    sns.distplot(df[nums[i]], color='blue')\n",
        "    plt.tight_layout()\n",
        "  '''"
      ],
      "metadata": {
        "id": "4rHtXmCbc7Yd",
        "colab": {
          "base_uri": "https://localhost:8080/",
          "height": 53
        },
        "outputId": "82db3d35-8dc8-4d75-d7d9-672852fd3108"
      },
      "id": "4rHtXmCbc7Yd",
      "execution_count": 13,
      "outputs": [
        {
          "output_type": "execute_result",
          "data": {
            "text/plain": [
              "\"\\nplt.figure(figsize=(12, 5))\\nfor i in range(0, len(nums)):\\n    plt.subplot(2, len(nums)/2, i+1)\\n    sns.distplot(df[nums[i]], color='blue')\\n    plt.tight_layout()\\n  \""
            ],
            "application/vnd.google.colaboratory.intrinsic+json": {
              "type": "string"
            }
          },
          "metadata": {},
          "execution_count": 13
        }
      ]
    },
    {
      "cell_type": "markdown",
      "id": "659efbd3",
      "metadata": {
        "id": "659efbd3"
      },
      "source": [
        "## Feature Encoding"
      ]
    },
    {
      "cell_type": "code",
      "execution_count": 14,
      "id": "20e217a2",
      "metadata": {
        "id": "20e217a2"
      },
      "outputs": [],
      "source": [
        "df.loan_status.replace(('APPROVE', 'REJECT'), (1, 0), inplace=True)\n",
        "X = df.copy()\n",
        "X.pop('loan_id')\n",
        "X.pop('birth_date')\n",
        "X.pop('phone_number')\n",
        "X.pop('has_credit_card')\n",
        "y = X.pop('loan_status')\n",
        "transformer_num = make_pipeline(\n",
        "    StandardScaler(),\n",
        ")\n",
        "transformer_cat = make_pipeline(\n",
        "    OneHotEncoder(handle_unknown='ignore'),\n",
        ")\n",
        "\n",
        "preprocessor = make_column_transformer(\n",
        "    (transformer_num, nums),\n",
        "    (transformer_cat, cats),\n",
        ")\n",
        "\n",
        "# stratify - make sure classes are evenlly represented across splits\n",
        "X_train, X_valid, y_train, y_valid = \\\n",
        "    train_test_split(X, y, stratify=y, train_size=0.75)\n",
        "\n",
        "X_train = preprocessor.fit_transform(X_train)\n",
        "X_valid = preprocessor.transform(X_valid)\n"
      ]
    },
    {
      "cell_type": "code",
      "source": [
        "model = keras.Sequential([\n",
        "    layers.BatchNormalization(),\n",
        "    layers.Dense(128, activation='relu',input_shape = [12,]),\n",
        "    layers.BatchNormalization(),\n",
        "    layers.Dropout(0.5),\n",
        "    layers.Dense(128, activation='relu'),\n",
        "    layers.BatchNormalization(),\n",
        "    layers.Dropout(0.5),   \n",
        "    layers.Dense(128, activation='relu'),\n",
        "    layers.BatchNormalization(),\n",
        "    layers.Dropout(0.5),\n",
        "    layers.Dense(1, activation='sigmoid'),\n",
        "])"
      ],
      "metadata": {
        "id": "FBN9uTWqZ_DF"
      },
      "id": "FBN9uTWqZ_DF",
      "execution_count": 15,
      "outputs": []
    },
    {
      "cell_type": "code",
      "source": [
        "opt = keras.optimizers.Adam(learning_rate=0.001)\n",
        "model.compile(\n",
        "    optimizer=opt,\n",
        "    loss='binary_crossentropy',\n",
        "    metrics=['binary_accuracy'],\n",
        ")"
      ],
      "metadata": {
        "id": "O-qBPGt9eAdy"
      },
      "id": "O-qBPGt9eAdy",
      "execution_count": 16,
      "outputs": []
    },
    {
      "cell_type": "code",
      "source": [
        "early_stopping = keras.callbacks.EarlyStopping(\n",
        "    patience=10,\n",
        "    min_delta=0.001,\n",
        "    restore_best_weights=True,\n",
        ")\n",
        "history = model.fit(\n",
        "    X_train, y_train,\n",
        "    validation_data=(X_valid, y_valid),\n",
        "    batch_size=512,\n",
        "    epochs=200,\n",
        "    steps_per_epoch = 2,\n",
        "    callbacks=[early_stopping],\n",
        ")\n",
        "\n",
        "history_df = pd.DataFrame(history.history)\n",
        "history_df.loc[:, ['loss', 'val_loss']].plot(title=\"Cross-entropy\")\n",
        "history_df.loc[:, ['binary_accuracy', 'val_binary_accuracy']].plot(title=\"Accuracy\")"
      ],
      "metadata": {
        "colab": {
          "base_uri": "https://localhost:8080/",
          "height": 1000
        },
        "id": "WbsWLXSIePIq",
        "outputId": "f2383ca4-804c-41c0-9b6e-dedd158c7934"
      },
      "id": "WbsWLXSIePIq",
      "execution_count": 17,
      "outputs": [
        {
          "output_type": "stream",
          "name": "stdout",
          "text": [
            "Epoch 1/200\n",
            "2/2 [==============================] - 3s 375ms/step - loss: 0.9837 - binary_accuracy: 0.5636 - val_loss: 0.7214 - val_binary_accuracy: 0.3290\n",
            "Epoch 2/200\n",
            "2/2 [==============================] - 0s 55ms/step - loss: 0.9638 - binary_accuracy: 0.5280 - val_loss: 0.6993 - val_binary_accuracy: 0.4258\n",
            "Epoch 3/200\n",
            "2/2 [==============================] - 0s 85ms/step - loss: 0.8762 - binary_accuracy: 0.5894 - val_loss: 0.6795 - val_binary_accuracy: 0.6323\n",
            "Epoch 4/200\n",
            "2/2 [==============================] - 0s 59ms/step - loss: 0.7901 - binary_accuracy: 0.6207 - val_loss: 0.6625 - val_binary_accuracy: 0.7226\n",
            "Epoch 5/200\n",
            "2/2 [==============================] - 0s 51ms/step - loss: 0.8190 - binary_accuracy: 0.5819 - val_loss: 0.6473 - val_binary_accuracy: 0.7871\n",
            "Epoch 6/200\n",
            "2/2 [==============================] - 0s 68ms/step - loss: 0.7467 - binary_accuracy: 0.6325 - val_loss: 0.6337 - val_binary_accuracy: 0.8194\n",
            "Epoch 7/200\n",
            "2/2 [==============================] - 0s 143ms/step - loss: 0.7048 - binary_accuracy: 0.6638 - val_loss: 0.6214 - val_binary_accuracy: 0.8194\n",
            "Epoch 8/200\n",
            "2/2 [==============================] - 0s 65ms/step - loss: 0.7252 - binary_accuracy: 0.6498 - val_loss: 0.6098 - val_binary_accuracy: 0.8323\n",
            "Epoch 9/200\n",
            "2/2 [==============================] - 0s 137ms/step - loss: 0.6852 - binary_accuracy: 0.6638 - val_loss: 0.5988 - val_binary_accuracy: 0.8323\n",
            "Epoch 10/200\n",
            "2/2 [==============================] - 0s 80ms/step - loss: 0.7096 - binary_accuracy: 0.6767 - val_loss: 0.5882 - val_binary_accuracy: 0.8323\n",
            "Epoch 11/200\n",
            "2/2 [==============================] - 0s 99ms/step - loss: 0.6555 - binary_accuracy: 0.6929 - val_loss: 0.5784 - val_binary_accuracy: 0.8258\n",
            "Epoch 12/200\n",
            "2/2 [==============================] - 0s 101ms/step - loss: 0.6836 - binary_accuracy: 0.6670 - val_loss: 0.5687 - val_binary_accuracy: 0.8258\n",
            "Epoch 13/200\n",
            "2/2 [==============================] - 0s 105ms/step - loss: 0.6750 - binary_accuracy: 0.6746 - val_loss: 0.5598 - val_binary_accuracy: 0.8258\n",
            "Epoch 14/200\n",
            "2/2 [==============================] - 0s 78ms/step - loss: 0.6457 - binary_accuracy: 0.6940 - val_loss: 0.5510 - val_binary_accuracy: 0.8258\n",
            "Epoch 15/200\n",
            "2/2 [==============================] - 0s 100ms/step - loss: 0.6152 - binary_accuracy: 0.7144 - val_loss: 0.5425 - val_binary_accuracy: 0.8258\n",
            "Epoch 16/200\n",
            "2/2 [==============================] - 0s 106ms/step - loss: 0.6097 - binary_accuracy: 0.7123 - val_loss: 0.5345 - val_binary_accuracy: 0.8258\n",
            "Epoch 17/200\n",
            "2/2 [==============================] - 0s 87ms/step - loss: 0.5613 - binary_accuracy: 0.7489 - val_loss: 0.5271 - val_binary_accuracy: 0.8258\n",
            "Epoch 18/200\n",
            "2/2 [==============================] - 0s 102ms/step - loss: 0.5619 - binary_accuracy: 0.7532 - val_loss: 0.5203 - val_binary_accuracy: 0.8258\n",
            "Epoch 19/200\n",
            "2/2 [==============================] - 0s 167ms/step - loss: 0.5761 - binary_accuracy: 0.7414 - val_loss: 0.5139 - val_binary_accuracy: 0.8258\n",
            "Epoch 20/200\n",
            "2/2 [==============================] - 0s 112ms/step - loss: 0.5725 - binary_accuracy: 0.7500 - val_loss: 0.5081 - val_binary_accuracy: 0.8258\n",
            "Epoch 21/200\n",
            "2/2 [==============================] - 0s 148ms/step - loss: 0.5526 - binary_accuracy: 0.7349 - val_loss: 0.5030 - val_binary_accuracy: 0.8258\n",
            "Epoch 22/200\n",
            "2/2 [==============================] - 0s 84ms/step - loss: 0.5653 - binary_accuracy: 0.7403 - val_loss: 0.4985 - val_binary_accuracy: 0.8258\n",
            "Epoch 23/200\n",
            "2/2 [==============================] - 0s 114ms/step - loss: 0.5576 - binary_accuracy: 0.7489 - val_loss: 0.4945 - val_binary_accuracy: 0.8258\n",
            "Epoch 24/200\n",
            "2/2 [==============================] - 0s 117ms/step - loss: 0.5410 - binary_accuracy: 0.7597 - val_loss: 0.4909 - val_binary_accuracy: 0.8258\n",
            "Epoch 25/200\n",
            "2/2 [==============================] - 0s 179ms/step - loss: 0.5553 - binary_accuracy: 0.7565 - val_loss: 0.4877 - val_binary_accuracy: 0.8258\n",
            "Epoch 26/200\n",
            "2/2 [==============================] - 0s 92ms/step - loss: 0.5582 - binary_accuracy: 0.7435 - val_loss: 0.4846 - val_binary_accuracy: 0.8258\n",
            "Epoch 27/200\n",
            "2/2 [==============================] - 0s 95ms/step - loss: 0.5518 - binary_accuracy: 0.7597 - val_loss: 0.4820 - val_binary_accuracy: 0.8258\n",
            "Epoch 28/200\n",
            "2/2 [==============================] - 0s 125ms/step - loss: 0.5320 - binary_accuracy: 0.7586 - val_loss: 0.4798 - val_binary_accuracy: 0.8258\n",
            "Epoch 29/200\n",
            "2/2 [==============================] - 0s 136ms/step - loss: 0.5141 - binary_accuracy: 0.7769 - val_loss: 0.4780 - val_binary_accuracy: 0.8258\n",
            "Epoch 30/200\n",
            "2/2 [==============================] - 0s 148ms/step - loss: 0.5169 - binary_accuracy: 0.7683 - val_loss: 0.4763 - val_binary_accuracy: 0.8258\n",
            "Epoch 31/200\n",
            "2/2 [==============================] - 0s 100ms/step - loss: 0.4909 - binary_accuracy: 0.7942 - val_loss: 0.4749 - val_binary_accuracy: 0.8258\n",
            "Epoch 32/200\n",
            "2/2 [==============================] - 0s 92ms/step - loss: 0.5419 - binary_accuracy: 0.7769 - val_loss: 0.4736 - val_binary_accuracy: 0.8258\n",
            "Epoch 33/200\n",
            "2/2 [==============================] - 0s 95ms/step - loss: 0.5235 - binary_accuracy: 0.7748 - val_loss: 0.4726 - val_binary_accuracy: 0.8258\n",
            "Epoch 34/200\n",
            "2/2 [==============================] - 0s 71ms/step - loss: 0.5149 - binary_accuracy: 0.7543 - val_loss: 0.4720 - val_binary_accuracy: 0.8258\n",
            "Epoch 35/200\n",
            "2/2 [==============================] - 0s 68ms/step - loss: 0.4794 - binary_accuracy: 0.7856 - val_loss: 0.4717 - val_binary_accuracy: 0.8258\n",
            "Epoch 36/200\n",
            "2/2 [==============================] - 0s 138ms/step - loss: 0.4972 - binary_accuracy: 0.7953 - val_loss: 0.4715 - val_binary_accuracy: 0.8258\n",
            "Epoch 37/200\n",
            "2/2 [==============================] - 0s 103ms/step - loss: 0.5355 - binary_accuracy: 0.7780 - val_loss: 0.4714 - val_binary_accuracy: 0.8258\n",
            "Epoch 38/200\n",
            "2/2 [==============================] - 0s 75ms/step - loss: 0.5417 - binary_accuracy: 0.7716 - val_loss: 0.4713 - val_binary_accuracy: 0.8258\n",
            "Epoch 39/200\n",
            "2/2 [==============================] - 0s 179ms/step - loss: 0.5075 - binary_accuracy: 0.7909 - val_loss: 0.4712 - val_binary_accuracy: 0.8258\n",
            "Epoch 40/200\n",
            "2/2 [==============================] - 0s 151ms/step - loss: 0.4988 - binary_accuracy: 0.7834 - val_loss: 0.4713 - val_binary_accuracy: 0.8258\n",
            "Epoch 41/200\n",
            "2/2 [==============================] - 0s 260ms/step - loss: 0.4913 - binary_accuracy: 0.7888 - val_loss: 0.4712 - val_binary_accuracy: 0.8258\n",
            "Epoch 42/200\n",
            "2/2 [==============================] - 0s 159ms/step - loss: 0.5131 - binary_accuracy: 0.7737 - val_loss: 0.4712 - val_binary_accuracy: 0.8258\n",
            "Epoch 43/200\n",
            "2/2 [==============================] - 0s 157ms/step - loss: 0.4564 - binary_accuracy: 0.8039 - val_loss: 0.4712 - val_binary_accuracy: 0.8258\n",
            "Epoch 44/200\n",
            "2/2 [==============================] - 0s 136ms/step - loss: 0.4891 - binary_accuracy: 0.7888 - val_loss: 0.4712 - val_binary_accuracy: 0.8258\n",
            "Epoch 45/200\n",
            "2/2 [==============================] - 0s 206ms/step - loss: 0.4884 - binary_accuracy: 0.7845 - val_loss: 0.4711 - val_binary_accuracy: 0.8258\n",
            "Epoch 46/200\n",
            "2/2 [==============================] - 0s 161ms/step - loss: 0.4804 - binary_accuracy: 0.7812 - val_loss: 0.4711 - val_binary_accuracy: 0.8258\n"
          ]
        },
        {
          "output_type": "execute_result",
          "data": {
            "text/plain": [
              "<Axes: title={'center': 'Accuracy'}>"
            ]
          },
          "metadata": {},
          "execution_count": 17
        },
        {
          "output_type": "display_data",
          "data": {
            "text/plain": [
              "<Figure size 1200x400 with 1 Axes>"
            ],
            "image/png": "[encoded data removed]"
          },
          "metadata": {}
        },
        {
          "output_type": "display_data",
          "data": {
            "text/plain": [
              "<Figure size 1200x400 with 1 Axes>"
            ],
            "image/png": "[encoded data removed]"
          },
          "metadata": {}
        }
      ]
    },
    {
      "cell_type": "code",
      "source": [
        "print((\"\\nBest Loss: {:0.4f}\" +\\\n",
        "       \"\\nBest Accuracy: {:0.4f}\" +\\\n",
        "       \"\\nBest Validation Loss: {:0.4f}\" +\\\n",
        "      \"\\nBest Validation Accuracy: {:0.4f}\")\\\n",
        "      .format(history_df['loss'].min(),\n",
        "              history_df['binary_accuracy'].max(),\n",
        "              history_df['val_loss'].min(), \n",
        "              history_df['val_binary_accuracy'].max()))"
      ],
      "metadata": {
        "colab": {
          "base_uri": "https://localhost:8080/"
        },
        "id": "j4UMsiBOjcEK",
        "outputId": "c5010701-9385-421f-c6b8-ce0a6d0ccb62"
      },
      "id": "j4UMsiBOjcEK",
      "execution_count": 18,
      "outputs": [
        {
          "output_type": "stream",
          "name": "stdout",
          "text": [
            "\n",
            "Best Loss: 0.4564\n",
            "Best Accuracy: 0.8039\n",
            "Best Validation Loss: 0.4711\n",
            "Best Validation Accuracy: 0.8323\n"
          ]
        }
      ]
    },
    {
      "cell_type": "code",
      "source": [
        "X.sample(1)"
      ],
      "metadata": {
        "colab": {
          "base_uri": "https://localhost:8080/",
          "height": 145
        },
        "id": "W24ClL9N5mpB",
        "outputId": "c76fea45-7c4a-42b6-bf20-6583c4ba8490"
      },
      "id": "W24ClL9N5mpB",
      "execution_count": 19,
      "outputs": [
        {
          "output_type": "execute_result",
          "data": {
            "text/plain": [
              "    gender married dependents education self_employed  applicant_income  \\\n",
              "371   Male      No          0  Graduate            No            5124.0   \n",
              "\n",
              "     coapplicant_income  loan_amount  loan_term_month  loan_term_year  \\\n",
              "371                 0.0       124000              360              30   \n",
              "\n",
              "     credit_history property_type  \n",
              "371             0.0        studio  "
            ],
            "text/html": [
              "\n",
              "  <div id=\"df-3131ff42-8e87-4d4f-a74d-3f363d59bae5\">\n",
              "    <div class=\"colab-df-container\">\n",
              "      <div>\n",
              "<style scoped>\n",
              "    .dataframe tbody tr th:only-of-type {\n",
              "        vertical-align: middle;\n",
              "    }\n",
              "\n",
              "    .dataframe tbody tr th {\n",
              "        vertical-align: top;\n",
              "    }\n",
              "\n",
              "    .dataframe thead th {\n",
              "        text-align: right;\n",
              "    }\n",
              "</style>\n",
              "<table border=\"1\" class=\"dataframe\">\n",
              "  <thead>\n",
              "    <tr style=\"text-align: right;\">\n",
              "      <th></th>\n",
              "      <th>gender</th>\n",
              "      <th>married</th>\n",
              "      <th>dependents</th>\n",
              "      <th>education</th>\n",
              "      <th>self_employed</th>\n",
              "      <th>applicant_income</th>\n",
              "      <th>coapplicant_income</th>\n",
              "      <th>loan_amount</th>\n",
              "      <th>loan_term_month</th>\n",
              "      <th>loan_term_year</th>\n",
              "      <th>credit_history</th>\n",
              "      <th>property_type</th>\n",
              "    </tr>\n",
              "  </thead>\n",
              "  <tbody>\n",
              "    <tr>\n",
              "      <th>371</th>\n",
              "      <td>Male</td>\n",
              "      <td>No</td>\n",
              "      <td>0</td>\n",
              "      <td>Graduate</td>\n",
              "      <td>No</td>\n",
              "      <td>5124.0</td>\n",
              "      <td>0.0</td>\n",
              "      <td>124000</td>\n",
              "      <td>360</td>\n",
              "      <td>30</td>\n",
              "      <td>0.0</td>\n",
              "      <td>studio</td>\n",
              "    </tr>\n",
              "  </tbody>\n",
              "</table>\n",
              "</div>\n",
              "      <button class=\"colab-df-convert\" onclick=\"convertToInteractive('df-3131ff42-8e87-4d4f-a74d-3f363d59bae5')\"\n",
              "              title=\"Convert this dataframe to an interactive table.\"\n",
              "              style=\"display:none;\">\n",
              "        \n",
              "  <svg xmlns=\"http://www.w3.org/2000/svg\" height=\"24px\"viewBox=\"0 0 24 24\"\n",
              "       width=\"24px\">\n",
              "    <path d=\"M0 0h24v24H0V0z\" fill=\"none\"/>\n",
              "    <path d=\"M18.56 5.44l.94 2.06.94-2.06 2.06-.94-2.06-.94-.94-2.06-.94 2.06-2.06.94zm-11 1L8.5 8.5l.94-2.06 2.06-.94-2.06-.94L8.5 2.5l-.94 2.06-2.06.94zm10 10l.94 2.06.94-2.06 2.06-.94-2.06-.94-.94-2.06-.94 2.06-2.06.94z\"/><path d=\"M17.41 7.96l-1.37-1.37c-.4-.4-.92-.59-1.43-.59-.52 0-1.04.2-1.43.59L10.3 9.45l-7.72 7.72c-.78.78-.78 2.05 0 2.83L4 21.41c.39.39.9.59 1.41.59.51 0 1.02-.2 1.41-.59l7.78-7.78 2.81-2.81c.8-.78.8-2.07 0-2.86zM5.41 20L4 18.59l7.72-7.72 1.47 1.35L5.41 20z\"/>\n",
              "  </svg>\n",
              "      </button>\n",
              "      \n",
              "  <style>\n",
              "    .colab-df-container {\n",
              "      display:flex;\n",
              "      flex-wrap:wrap;\n",
              "      gap: 12px;\n",
              "    }\n",
              "\n",
              "    .colab-df-convert {\n",
              "      background-color: #E8F0FE;\n",
              "      border: none;\n",
              "      border-radius: 50%;\n",
              "      cursor: pointer;\n",
              "      display: none;\n",
              "      fill: #1967D2;\n",
              "      height: 32px;\n",
              "      padding: 0 0 0 0;\n",
              "      width: 32px;\n",
              "    }\n",
              "\n",
              "    .colab-df-convert:hover {\n",
              "      background-color: #E2EBFA;\n",
              "      box-shadow: 0px 1px 2px rgba(60, 64, 67, 0.3), 0px 1px 3px 1px rgba(60, 64, 67, 0.15);\n",
              "      fill: #174EA6;\n",
              "    }\n",
              "\n",
              "    [theme=dark] .colab-df-convert {\n",
              "      background-color: #3B4455;\n",
              "      fill: #D2E3FC;\n",
              "    }\n",
              "\n",
              "    [theme=dark] .colab-df-convert:hover {\n",
              "      background-color: #434B5C;\n",
              "      box-shadow: 0px 1px 3px 1px rgba(0, 0, 0, 0.15);\n",
              "      filter: drop-shadow(0px 1px 2px rgba(0, 0, 0, 0.3));\n",
              "      fill: #FFFFFF;\n",
              "    }\n",
              "  </style>\n",
              "\n",
              "      <script>\n",
              "        const buttonEl =\n",
              "          document.querySelector('#df-3131ff42-8e87-4d4f-a74d-3f363d59bae5 button.colab-df-convert');\n",
              "        buttonEl.style.display =\n",
              "          google.colab.kernel.accessAllowed ? 'block' : 'none';\n",
              "\n",
              "        async function convertToInteractive(key) {\n",
              "          const element = document.querySelector('#df-3131ff42-8e87-4d4f-a74d-3f363d59bae5');\n",
              "          const dataTable =\n",
              "            await google.colab.kernel.invokeFunction('convertToInteractive',\n",
              "                                                     [key], {});\n",
              "          if (!dataTable) return;\n",
              "\n",
              "          const docLinkHtml = 'Like what you see? Visit the ' +\n",
              "            '<a target=\"_blank\" href=https://colab.research.google.com/notebooks/data_table.ipynb>data table notebook</a>'\n",
              "            + ' to learn more about interactive tables.';\n",
              "          element.innerHTML = '';\n",
              "          dataTable['output_type'] = 'display_data';\n",
              "          await google.colab.output.renderOutput(dataTable, element);\n",
              "          const docLink = document.createElement('div');\n",
              "          docLink.innerHTML = docLinkHtml;\n",
              "          element.appendChild(docLink);\n",
              "        }\n",
              "      </script>\n",
              "    </div>\n",
              "  </div>\n",
              "  "
            ]
          },
          "metadata": {},
          "execution_count": 19
        }
      ]
    },
    {
      "cell_type": "code",
      "source": [
        "test_data = {\n",
        "    'gender': 'Male',\n",
        "    'married': 'Yes',\n",
        "    'dependents': '0',\n",
        "    'education': 'Graduate',\n",
        "    'self_employed': 'No',\n",
        "    'property_type': 'apartment',\n",
        "    'applicant_income': 5000.0,\n",
        "    'coapplicant_income': 2000.0,\n",
        "    'loan_amount': 150000,\n",
        "    'loan_term_month': 360,\n",
        "    'loan_term_year': 30,\n",
        "    'credit_history': 1.0\n",
        "}\n",
        "\n",
        "input_df = pd.DataFrame([test_data])\n",
        "\n",
        "input_transformed = preprocessor.transform(input_df)"
      ],
      "metadata": {
        "id": "p8FcdVDy10vo"
      },
      "id": "p8FcdVDy10vo",
      "execution_count": 20,
      "outputs": []
    },
    {
      "cell_type": "code",
      "source": [
        "# Melakukan prediksi\n",
        "prediction = model.predict(input_transformed)\n",
        "prediction = np.round(prediction.flatten())\n",
        "\n",
        "# Menampilkan hasil prediksi\n",
        "print('Loan Status:', 'APPROVE' if prediction == 1 else 'REJECT')"
      ],
      "metadata": {
        "colab": {
          "base_uri": "https://localhost:8080/"
        },
        "id": "NgkH5b9087x5",
        "outputId": "281f2e78-b737-48be-a74f-7806e174eb6a"
      },
      "id": "NgkH5b9087x5",
      "execution_count": 21,
      "outputs": [
        {
          "output_type": "stream",
          "name": "stdout",
          "text": [
            "1/1 [==============================] - 0s 356ms/step\n",
            "Loan Status: APPROVE\n"
          ]
        }
      ]
    }
  ],
  "metadata": {
    "kernelspec": {
      "display_name": "Python 3 (ipykernel)",
      "language": "python",
      "name": "python3"
    },
    "language_info": {
      "codemirror_mode": {
        "name": "ipython",
        "version": 3
      },
      "file_extension": ".py",
      "mimetype": "text/x-python",
      "name": "python",
      "nbconvert_exporter": "python",
      "pygments_lexer": "ipython3",
      "version": "3.9.6"
    },
    "colab": {
      "provenance": [],
      "include_colab_link": true
    }
  },
  "nbformat": 4,
  "nbformat_minor": 5
}